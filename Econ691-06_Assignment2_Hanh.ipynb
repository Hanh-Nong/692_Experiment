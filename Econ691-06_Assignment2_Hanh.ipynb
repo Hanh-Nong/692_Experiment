{
 "cells": [
  {
   "cell_type": "markdown",
   "metadata": {},
   "source": [
    "**Econ691-06 | Hanh Nong**\n",
    "# <center>ASSIGNMENT 2</center>"
   ]
  },
  {
   "cell_type": "code",
   "execution_count": 10,
   "metadata": {},
   "outputs": [],
   "source": [
    "#setup\n",
    "import pandas as pd\n",
    "import numpy as np\n",
    "import matplotlib.pyplot as plt\n",
    "import statsmodels.formula.api as sfa\n",
    "from statsmodels.iolib.summary2 import summary_col\n",
    "from scipy import stats\n",
    "import seaborn as sns"
   ]
  },
  {
   "cell_type": "markdown",
   "metadata": {},
   "source": [
    "## Problem 1: Heterogeneous Treatment Effects\n",
    "\n",
    "The dataset for this homework comes from an actual survey in the US, where participants were randomly asked one of two questions with similar wording. Assume the randomization scheme was as follows: a coin was flipped prior to each participant being surveyed to determine treatment. The wording is as follows:\n",
    "\n",
    "    We are faced with many problems in this country, none of which can be solved easily or inexpensively. I'm going to name some of these problems, and for each one I'd like you to tell me whether you think we're spending too much money or too little money on it. Are we spending too much, too little, or about the right amount on (assistance to the poor/welfare)?\n",
    "\n",
    "The treatment is choosing the wording - \"assistance to the poor\" (1) versus \"welfare\" (0). The response is that the person surveyed thinks the government spends too much (1) versus too little (0). This data, along with two covariates (age and party preference, for hypothetical parties A - I), can be found in the file data_assignment2_1.csv."
   ]
  },
  {
   "cell_type": "code",
   "execution_count": 11,
   "metadata": {},
   "outputs": [
    {
     "data": {
      "text/html": [
       "<div>\n",
       "<style scoped>\n",
       "    .dataframe tbody tr th:only-of-type {\n",
       "        vertical-align: middle;\n",
       "    }\n",
       "\n",
       "    .dataframe tbody tr th {\n",
       "        vertical-align: top;\n",
       "    }\n",
       "\n",
       "    .dataframe thead th {\n",
       "        text-align: right;\n",
       "    }\n",
       "</style>\n",
       "<table border=\"1\" class=\"dataframe\">\n",
       "  <thead>\n",
       "    <tr style=\"text-align: right;\">\n",
       "      <th></th>\n",
       "      <th>response</th>\n",
       "      <th>treatment</th>\n",
       "      <th>age</th>\n",
       "      <th>party</th>\n",
       "    </tr>\n",
       "  </thead>\n",
       "  <tbody>\n",
       "    <tr>\n",
       "      <th>0</th>\n",
       "      <td>0</td>\n",
       "      <td>0</td>\n",
       "      <td>28.0</td>\n",
       "      <td>d</td>\n",
       "    </tr>\n",
       "    <tr>\n",
       "      <th>1</th>\n",
       "      <td>1</td>\n",
       "      <td>0</td>\n",
       "      <td>54.0</td>\n",
       "      <td>g</td>\n",
       "    </tr>\n",
       "    <tr>\n",
       "      <th>2</th>\n",
       "      <td>1</td>\n",
       "      <td>0</td>\n",
       "      <td>44.0</td>\n",
       "      <td>a</td>\n",
       "    </tr>\n",
       "    <tr>\n",
       "      <th>3</th>\n",
       "      <td>0</td>\n",
       "      <td>0</td>\n",
       "      <td>77.0</td>\n",
       "      <td>a</td>\n",
       "    </tr>\n",
       "    <tr>\n",
       "      <th>4</th>\n",
       "      <td>0</td>\n",
       "      <td>0</td>\n",
       "      <td>44.0</td>\n",
       "      <td>a</td>\n",
       "    </tr>\n",
       "  </tbody>\n",
       "</table>\n",
       "</div>"
      ],
      "text/plain": [
       "   response  treatment   age party\n",
       "0         0          0  28.0     d\n",
       "1         1          0  54.0     g\n",
       "2         1          0  44.0     a\n",
       "3         0          0  77.0     a\n",
       "4         0          0  44.0     a"
      ]
     },
     "execution_count": 11,
     "metadata": {},
     "output_type": "execute_result"
    }
   ],
   "source": [
    "#load data\n",
    "data1 = pd.read_csv(\"data_assignment2_1.csv\")\n",
    "data1.head()"
   ]
  },
  {
   "cell_type": "markdown",
   "metadata": {},
   "source": [
    "### 1. (10 points)\n",
    "**We suspect there is treatment heterogeneity in age, with older participants (those 50 or older) differing from younger participants (49 and below). Prove or disprove this hypothesis; and explain in words what this means about support for assistance to the poor/welfare for the elderly versus young.**\n",
    "\n",
    "If there is no treatment heterogeneity in age, then the treatment effect would be the same for every age. Linear regression on variables *treatment*, *age* and the interaction of *treatment* and *age* can tell whether there is heterogeneity or not."
   ]
  },
  {
   "cell_type": "markdown",
   "metadata": {},
   "source": [
    "First, introduce new binary variable which indicates whether the participants are 50 up or not."
   ]
  },
  {
   "cell_type": "code",
   "execution_count": 12,
   "metadata": {},
   "outputs": [
    {
     "data": {
      "text/html": [
       "<div>\n",
       "<style scoped>\n",
       "    .dataframe tbody tr th:only-of-type {\n",
       "        vertical-align: middle;\n",
       "    }\n",
       "\n",
       "    .dataframe tbody tr th {\n",
       "        vertical-align: top;\n",
       "    }\n",
       "\n",
       "    .dataframe thead th {\n",
       "        text-align: right;\n",
       "    }\n",
       "</style>\n",
       "<table border=\"1\" class=\"dataframe\">\n",
       "  <thead>\n",
       "    <tr style=\"text-align: right;\">\n",
       "      <th></th>\n",
       "      <th>response</th>\n",
       "      <th>treatment</th>\n",
       "      <th>age</th>\n",
       "      <th>party</th>\n",
       "      <th>fiftyup</th>\n",
       "    </tr>\n",
       "  </thead>\n",
       "  <tbody>\n",
       "    <tr>\n",
       "      <th>0</th>\n",
       "      <td>0</td>\n",
       "      <td>0</td>\n",
       "      <td>28.0</td>\n",
       "      <td>d</td>\n",
       "      <td>0</td>\n",
       "    </tr>\n",
       "    <tr>\n",
       "      <th>1</th>\n",
       "      <td>1</td>\n",
       "      <td>0</td>\n",
       "      <td>54.0</td>\n",
       "      <td>g</td>\n",
       "      <td>1</td>\n",
       "    </tr>\n",
       "    <tr>\n",
       "      <th>2</th>\n",
       "      <td>1</td>\n",
       "      <td>0</td>\n",
       "      <td>44.0</td>\n",
       "      <td>a</td>\n",
       "      <td>0</td>\n",
       "    </tr>\n",
       "    <tr>\n",
       "      <th>3</th>\n",
       "      <td>0</td>\n",
       "      <td>0</td>\n",
       "      <td>77.0</td>\n",
       "      <td>a</td>\n",
       "      <td>1</td>\n",
       "    </tr>\n",
       "    <tr>\n",
       "      <th>4</th>\n",
       "      <td>0</td>\n",
       "      <td>0</td>\n",
       "      <td>44.0</td>\n",
       "      <td>a</td>\n",
       "      <td>0</td>\n",
       "    </tr>\n",
       "  </tbody>\n",
       "</table>\n",
       "</div>"
      ],
      "text/plain": [
       "   response  treatment   age party  fiftyup\n",
       "0         0          0  28.0     d        0\n",
       "1         1          0  54.0     g        1\n",
       "2         1          0  44.0     a        0\n",
       "3         0          0  77.0     a        1\n",
       "4         0          0  44.0     a        0"
      ]
     },
     "execution_count": 12,
     "metadata": {},
     "output_type": "execute_result"
    }
   ],
   "source": [
    "data1['fiftyup'] = (data1['age'] >=50).astype(int)\n",
    "data1.head()"
   ]
  },
  {
   "cell_type": "markdown",
   "metadata": {},
   "source": [
    "Regression results are as below:"
   ]
  },
  {
   "cell_type": "code",
   "execution_count": 13,
   "metadata": {},
   "outputs": [
    {
     "name": "stdout",
     "output_type": "stream",
     "text": [
      "                            OLS Regression Results                            \n",
      "==============================================================================\n",
      "Dep. Variable:               response   R-squared:                       0.152\n",
      "Model:                            OLS   Adj. R-squared:                  0.152\n",
      "Method:                 Least Squares   F-statistic:                     2057.\n",
      "Date:                Tue, 08 Sep 2020   Prob (F-statistic):               0.00\n",
      "Time:                        16:32:06   Log-Likelihood:                -18180.\n",
      "No. Observations:               36501   AIC:                         3.637e+04\n",
      "Df Residuals:                   36497   BIC:                         3.640e+04\n",
      "Df Model:                           3                                         \n",
      "Covariance Type:                  HC1                                         \n",
      "=====================================================================================\n",
      "                        coef    std err          z      P>|z|      [0.025      0.975]\n",
      "-------------------------------------------------------------------------------------\n",
      "Intercept             0.4372      0.005     90.252      0.000       0.428       0.447\n",
      "treatment            -0.3514      0.005    -64.166      0.000      -0.362      -0.341\n",
      "fiftyup              -0.0207      0.008     -2.661      0.008      -0.036      -0.005\n",
      "treatment:fiftyup     0.0350      0.009      3.934      0.000       0.018       0.052\n",
      "==============================================================================\n",
      "Omnibus:                     3827.162   Durbin-Watson:                   1.892\n",
      "Prob(Omnibus):                  0.000   Jarque-Bera (JB):             4509.442\n",
      "Skew:                           0.828   Prob(JB):                         0.00\n",
      "Kurtosis:                       2.526   Cond. No.                         6.58\n",
      "==============================================================================\n",
      "\n",
      "Warnings:\n",
      "[1] Standard Errors are heteroscedasticity robust (HC1)\n"
     ]
    }
   ],
   "source": [
    "reg1 = sfa.ols(\"response ~ treatment + fiftyup + treatment*fiftyup\", data = data1).fit(cov_type='HC1')\n",
    "print(reg1.summary())"
   ]
  },
  {
   "cell_type": "markdown",
   "metadata": {},
   "source": [
    "The coefficients for *fiftyup* and *treatment * fiftyup* are statistically significant. The treatment effect for age 50 up is -0.31 while it's -0.35 for the younger group. The standard errors on *treatment* coefficient and *treatment * fiftyup* coefficient are both very small. The treatment has different effect on different age group. When asked about opinion on \"assistance to the poor\", older ages increase the probability of responding \"too much\" compared to younger ages. That could also mean the older group's support for \"assistance to the poor\" is less favourable than younger group's"
   ]
  },
  {
   "cell_type": "markdown",
   "metadata": {},
   "source": [
    "### 2. (5 points) \n",
    "**Repeat this same process, but using age as a continuous rather than discrete variable. Do your conclusions change?**"
   ]
  },
  {
   "cell_type": "code",
   "execution_count": 14,
   "metadata": {},
   "outputs": [
    {
     "name": "stdout",
     "output_type": "stream",
     "text": [
      "                            OLS Regression Results                            \n",
      "==============================================================================\n",
      "Dep. Variable:               response   R-squared:                       0.152\n",
      "Model:                            OLS   Adj. R-squared:                  0.152\n",
      "Method:                 Least Squares   F-statistic:                     2064.\n",
      "Date:                Tue, 08 Sep 2020   Prob (F-statistic):               0.00\n",
      "Time:                        16:32:52   Log-Likelihood:                -18127.\n",
      "No. Observations:               36388   AIC:                         3.626e+04\n",
      "Df Residuals:                   36384   BIC:                         3.630e+04\n",
      "Df Model:                           3                                         \n",
      "Covariance Type:                  HC1                                         \n",
      "=================================================================================\n",
      "                    coef    std err          z      P>|z|      [0.025      0.975]\n",
      "---------------------------------------------------------------------------------\n",
      "Intercept         0.4413      0.011     41.336      0.000       0.420       0.462\n",
      "treatment        -0.3774      0.012    -31.143      0.000      -0.401      -0.354\n",
      "age              -0.0003      0.000     -1.208      0.227      -0.001       0.000\n",
      "treatment:age     0.0009      0.000      3.460      0.001       0.000       0.001\n",
      "==============================================================================\n",
      "Omnibus:                     3822.938   Durbin-Watson:                   1.892\n",
      "Prob(Omnibus):                  0.000   Jarque-Bera (JB):             4488.351\n",
      "Skew:                           0.826   Prob(JB):                         0.00\n",
      "Kurtosis:                       2.521   Cond. No.                         377.\n",
      "==============================================================================\n",
      "\n",
      "Warnings:\n",
      "[1] Standard Errors are heteroscedasticity robust (HC1)\n"
     ]
    }
   ],
   "source": [
    "reg2 = sfa.ols(\"response ~ treatment + age + treatment*age\", data = data1).fit(cov_type='HC1')\n",
    "print(reg2.summary())"
   ]
  },
  {
   "cell_type": "markdown",
   "metadata": {},
   "source": [
    "For this model, we can only conclude that as a person get older, the treatment effect is less negative, aka less likely to respond \"too much\" when asked about \"assistance to the poor\". However, it doesnn't specifically imply the difference between two age groups. It actually shows the treatment effect for a specific age rather than the difference. Hence, the t-test for the *treatment x age* coefficient can't be used to make conclusion on the significance of the difference in treatment effect. Moreover, the coefficient of *treatment * age* is very small compared to the *treatment* coefficient. The difference in treatment effect between ages hence is very minimal and hardly recognized."
   ]
  },
  {
   "cell_type": "markdown",
   "metadata": {},
   "source": [
    "### 3. (10 points) \n",
    "**We similarly suspect there is treatment heterogeneity in party preference. Prove or disprove this hypothesis; but be mindful of the higher dimensionality of the problem and implement a solution accordingly.**\n",
    "\n",
    "Split the data into two group. Run regression on group 1 to identify heterogeneity and group 2 to measure its effect"
   ]
  },
  {
   "cell_type": "code",
   "execution_count": 15,
   "metadata": {},
   "outputs": [],
   "source": [
    "#Split data into 2 groups:\n",
    "index_1 = np.random.choice(range(len(data1)), round(len(data1)/2), replace = False)"
   ]
  },
  {
   "cell_type": "markdown",
   "metadata": {},
   "source": [
    "Results of regression on group 1 is as below. Coefficients of *treatment x party* are statistically significant (p-value <0.05) where parties are b, e, f & g and not significant for parties c, d, h, & i. There is heterogeneity among parties b, e, f & g but not among parties c, d, h & i. The second regression show the heterogeneity effect. \n",
    "\n",
    "    treatment:party[T.b]    -0.0467\n",
    "    treatment:party[T.e]    -0.1318\n",
    "    treatment:party[T.f]    -0.1415\n",
    "    treatment:party[T.g]    -0.1662 \n",
    "\n",
    "Since the result of having heterogeneity is not consistent among all parties, it's hard to conclude that there is treatment heterogeneity in party preference."
   ]
  },
  {
   "cell_type": "code",
   "execution_count": 16,
   "metadata": {},
   "outputs": [
    {
     "name": "stdout",
     "output_type": "stream",
     "text": [
      "                            OLS Regression Results                            \n",
      "==============================================================================\n",
      "Dep. Variable:               response   R-squared:                       0.182\n",
      "Model:                            OLS   Adj. R-squared:                  0.181\n",
      "Method:                 Least Squares   F-statistic:                     248.3\n",
      "Date:                Tue, 08 Sep 2020   Prob (F-statistic):               0.00\n",
      "Time:                        16:33:05   Log-Likelihood:                -8764.2\n",
      "No. Observations:               18250   AIC:                         1.756e+04\n",
      "Df Residuals:                   18232   BIC:                         1.771e+04\n",
      "Df Model:                          17                                         \n",
      "Covariance Type:                  HC1                                         \n",
      "========================================================================================\n",
      "                           coef    std err          z      P>|z|      [0.025      0.975]\n",
      "----------------------------------------------------------------------------------------\n",
      "Intercept                0.2866      0.013     22.453      0.000       0.262       0.312\n",
      "party[T.b]               0.0811      0.017      4.663      0.000       0.047       0.115\n",
      "party[T.c]               0.0713      0.020      3.586      0.000       0.032       0.110\n",
      "party[T.d]               0.1089      0.019      5.879      0.000       0.073       0.145\n",
      "party[T.e]               0.2406      0.022     10.730      0.000       0.197       0.285\n",
      "party[T.f]               0.2361      0.018     12.949      0.000       0.200       0.272\n",
      "party[T.g]               0.3275      0.021     15.823      0.000       0.287       0.368\n",
      "party[T.h]               0.2170      0.045      4.866      0.000       0.130       0.304\n",
      "party[T.i]               0.0112      0.068      0.166      0.869      -0.122       0.144\n",
      "treatment               -0.2513      0.014    -18.467      0.000      -0.278      -0.225\n",
      "treatment:party[T.b]    -0.0537      0.019     -2.847      0.004      -0.091      -0.017\n",
      "treatment:party[T.c]    -0.0390      0.022     -1.788      0.074      -0.082       0.004\n",
      "treatment:party[T.d]    -0.0703      0.020     -3.484      0.000      -0.110      -0.031\n",
      "treatment:party[T.e]    -0.1501      0.026     -5.828      0.000      -0.201      -0.100\n",
      "treatment:party[T.f]    -0.1415      0.021     -6.836      0.000      -0.182      -0.101\n",
      "treatment:party[T.g]    -0.1662      0.024     -6.784      0.000      -0.214      -0.118\n",
      "treatment:party[T.h]    -0.0196      0.060     -0.328      0.743      -0.136       0.097\n",
      "treatment:party[T.i]     0.0011      0.073      0.015      0.988      -0.142       0.145\n",
      "==============================================================================\n",
      "Omnibus:                     1657.697   Durbin-Watson:                   1.975\n",
      "Prob(Omnibus):                  0.000   Jarque-Bera (JB):             2059.244\n",
      "Skew:                           0.807   Prob(JB):                         0.00\n",
      "Kurtosis:                       2.682   Cond. No.                         39.0\n",
      "==============================================================================\n",
      "\n",
      "Warnings:\n",
      "[1] Standard Errors are heteroscedasticity robust (HC1)\n"
     ]
    }
   ],
   "source": [
    "reg3_1 = sfa.ols(\"response ~ treatment + party + treatment*party\", data = data1.iloc[index_1]).fit(cov_type='HC1')\n",
    "print(reg3_1.summary())"
   ]
  },
  {
   "cell_type": "code",
   "execution_count": 17,
   "metadata": {},
   "outputs": [
    {
     "name": "stdout",
     "output_type": "stream",
     "text": [
      "                            OLS Regression Results                            \n",
      "==============================================================================\n",
      "Dep. Variable:               response   R-squared:                       0.183\n",
      "Model:                            OLS   Adj. R-squared:                  0.182\n",
      "Method:                 Least Squares   F-statistic:                     240.6\n",
      "Date:                Tue, 08 Sep 2020   Prob (F-statistic):               0.00\n",
      "Time:                        16:33:08   Log-Likelihood:                -8751.3\n",
      "No. Observations:               18251   AIC:                         1.754e+04\n",
      "Df Residuals:                   18233   BIC:                         1.768e+04\n",
      "Df Model:                          17                                         \n",
      "Covariance Type:                  HC1                                         \n",
      "========================================================================================\n",
      "                           coef    std err          z      P>|z|      [0.025      0.975]\n",
      "----------------------------------------------------------------------------------------\n",
      "Intercept                0.3195      0.013     24.919      0.000       0.294       0.345\n",
      "party[T.b]               0.0545      0.017      3.117      0.002       0.020       0.089\n",
      "party[T.c]               0.0372      0.020      1.850      0.064      -0.002       0.077\n",
      "party[T.d]               0.0737      0.018      3.982      0.000       0.037       0.110\n",
      "party[T.e]               0.2078      0.022      9.477      0.000       0.165       0.251\n",
      "party[T.f]               0.2062      0.019     11.101      0.000       0.170       0.243\n",
      "party[T.g]               0.2825      0.021     13.642      0.000       0.242       0.323\n",
      "party[T.h]               0.2012      0.047      4.261      0.000       0.109       0.294\n",
      "party[T.i]              -0.0306      0.069     -0.445      0.657      -0.165       0.104\n",
      "treatment               -0.2713      0.014    -19.483      0.000      -0.299      -0.244\n",
      "treatment:party[T.b]    -0.0467      0.019     -2.447      0.014      -0.084      -0.009\n",
      "treatment:party[T.c]    -0.0310      0.022     -1.414      0.157      -0.074       0.012\n",
      "treatment:party[T.d]    -0.0404      0.021     -1.972      0.049      -0.081      -0.000\n",
      "treatment:party[T.e]    -0.1318      0.025     -5.235      0.000      -0.181      -0.082\n",
      "treatment:party[T.f]    -0.1338      0.021     -6.365      0.000      -0.175      -0.093\n",
      "treatment:party[T.g]    -0.1534      0.025     -6.257      0.000      -0.201      -0.105\n",
      "treatment:party[T.h]    -0.1044      0.056     -1.859      0.063      -0.215       0.006\n",
      "treatment:party[T.i]     0.0644      0.077      0.831      0.406      -0.087       0.216\n",
      "==============================================================================\n",
      "Omnibus:                     1638.883   Durbin-Watson:                   1.902\n",
      "Prob(Omnibus):                  0.000   Jarque-Bera (JB):             2027.620\n",
      "Skew:                           0.801   Prob(JB):                         0.00\n",
      "Kurtosis:                       2.680   Cond. No.                         39.6\n",
      "==============================================================================\n",
      "\n",
      "Warnings:\n",
      "[1] Standard Errors are heteroscedasticity robust (HC1)\n"
     ]
    }
   ],
   "source": [
    "reg3_2 = sfa.ols(\"response ~ treatment + party + treatment*party\", data = data1.drop(index_1)).fit(cov_type='HC1')\n",
    "print(reg3_2.summary())"
   ]
  },
  {
   "cell_type": "markdown",
   "metadata": {},
   "source": [
    "## Problem 2: Non-Compliance\n",
    "\n",
    "Suppose you are a data scientist at DoorDash, and you implement a new feature - linking of Venmo accounts to pay for meals - to increase revenue. You run a large experiment to test its impact in a given city, with an equal-sized treatment and control group. You want to understand the effect of linking the account on revenue. Of course, you cannot force users to link their accounts, and so that form of non-compliance will have to be handled.\n",
    "\n",
    "The data following the experiment is in the file data_assignment2_2.csv. The file has 200,000 rows. Each row corresponds to a separate user, for which there are seven columns. Six of the columns are collected at the time of the experiment: revenue brought in by the user, an indicator for whether the user is in the treatment group (where 1 indicates treatment), an indicator for whether the user actually complied with the treatment (i.e. linked their Venmo account, where 1 indicates compliance), the age of the user, the gender of the user (male, female, or other), and the geographic zone (numbered one through eight) of the user in the city. The seventh column (\"signal\") should be put aside for now, and will be incorporated into the question later."
   ]
  },
  {
   "cell_type": "code",
   "execution_count": 18,
   "metadata": {
    "scrolled": true
   },
   "outputs": [
    {
     "data": {
      "text/html": [
       "<div>\n",
       "<style scoped>\n",
       "    .dataframe tbody tr th:only-of-type {\n",
       "        vertical-align: middle;\n",
       "    }\n",
       "\n",
       "    .dataframe tbody tr th {\n",
       "        vertical-align: top;\n",
       "    }\n",
       "\n",
       "    .dataframe thead th {\n",
       "        text-align: right;\n",
       "    }\n",
       "</style>\n",
       "<table border=\"1\" class=\"dataframe\">\n",
       "  <thead>\n",
       "    <tr style=\"text-align: right;\">\n",
       "      <th></th>\n",
       "      <th>revenue</th>\n",
       "      <th>treatment</th>\n",
       "      <th>compliance</th>\n",
       "      <th>age</th>\n",
       "      <th>gender</th>\n",
       "      <th>zone</th>\n",
       "      <th>signal</th>\n",
       "    </tr>\n",
       "  </thead>\n",
       "  <tbody>\n",
       "    <tr>\n",
       "      <th>0</th>\n",
       "      <td>6.878037</td>\n",
       "      <td>1</td>\n",
       "      <td>0</td>\n",
       "      <td>27</td>\n",
       "      <td>m</td>\n",
       "      <td>2</td>\n",
       "      <td>0.071595</td>\n",
       "    </tr>\n",
       "    <tr>\n",
       "      <th>1</th>\n",
       "      <td>16.911885</td>\n",
       "      <td>1</td>\n",
       "      <td>0</td>\n",
       "      <td>62</td>\n",
       "      <td>o</td>\n",
       "      <td>4</td>\n",
       "      <td>0.162294</td>\n",
       "    </tr>\n",
       "    <tr>\n",
       "      <th>2</th>\n",
       "      <td>24.212034</td>\n",
       "      <td>1</td>\n",
       "      <td>0</td>\n",
       "      <td>31</td>\n",
       "      <td>f</td>\n",
       "      <td>2</td>\n",
       "      <td>0.099369</td>\n",
       "    </tr>\n",
       "    <tr>\n",
       "      <th>3</th>\n",
       "      <td>11.106823</td>\n",
       "      <td>1</td>\n",
       "      <td>0</td>\n",
       "      <td>42</td>\n",
       "      <td>m</td>\n",
       "      <td>7</td>\n",
       "      <td>-0.080129</td>\n",
       "    </tr>\n",
       "    <tr>\n",
       "      <th>4</th>\n",
       "      <td>22.507852</td>\n",
       "      <td>1</td>\n",
       "      <td>0</td>\n",
       "      <td>44</td>\n",
       "      <td>m</td>\n",
       "      <td>4</td>\n",
       "      <td>0.150118</td>\n",
       "    </tr>\n",
       "  </tbody>\n",
       "</table>\n",
       "</div>"
      ],
      "text/plain": [
       "     revenue  treatment  compliance  age gender  zone    signal\n",
       "0   6.878037          1           0   27      m     2  0.071595\n",
       "1  16.911885          1           0   62      o     4  0.162294\n",
       "2  24.212034          1           0   31      f     2  0.099369\n",
       "3  11.106823          1           0   42      m     7 -0.080129\n",
       "4  22.507852          1           0   44      m     4  0.150118"
      ]
     },
     "execution_count": 18,
     "metadata": {},
     "output_type": "execute_result"
    }
   ],
   "source": [
    "#load data\n",
    "data2 = pd.read_csv(\"data_assignment2_2.csv\")\n",
    "data2.head()"
   ]
  },
  {
   "cell_type": "markdown",
   "metadata": {},
   "source": [
    "### 1. (5 points) \n",
    "**Compute the estimate as given by the as-treated and per-protocol estimator. Explain in one sentence the assumption that both embed, and show using the data that this assumption is likely invalid.**"
   ]
  },
  {
   "cell_type": "code",
   "execution_count": 19,
   "metadata": {},
   "outputs": [
    {
     "name": "stdout",
     "output_type": "stream",
     "text": [
      "Number of compliers in control group: 0\n"
     ]
    }
   ],
   "source": [
    "print(\"Number of compliers in control group:\",data2.query(\"treatment == 0\")['compliance'].sum())"
   ]
  },
  {
   "cell_type": "code",
   "execution_count": 20,
   "metadata": {
    "scrolled": true
   },
   "outputs": [
    {
     "name": "stdout",
     "output_type": "stream",
     "text": [
      "Estimate by as-treated method: 5.52\n"
     ]
    }
   ],
   "source": [
    "#Compute estimate\n",
    "astreated = (data2.query(\"compliance == 1\")['revenue'].mean() -\n",
    "             data2.query(\"compliance == 0\")['revenue'].mean())\n",
    "print(\"Estimate by as-treated method:\",round(astreated,2))"
   ]
  },
  {
   "cell_type": "code",
   "execution_count": 21,
   "metadata": {
    "scrolled": true
   },
   "outputs": [
    {
     "name": "stdout",
     "output_type": "stream",
     "text": [
      "Estimate by per-protocol method: 5.48\n"
     ]
    }
   ],
   "source": [
    "#Compute estimate\n",
    "perprotocol = (data2.query(\"compliance == 1\")['revenue'].mean() -\n",
    "               data2.query(\"treatment == 0\")['revenue'].mean())\n",
    "print(\"Estimate by per-protocol method:\",round(perprotocol,2))"
   ]
  },
  {
   "cell_type": "markdown",
   "metadata": {},
   "source": [
    "Both as-treated and per-protocol assume there is no selection bias in taking treatment. As shown below, 93% of treatment group is non-compliers. Before experiment, treatment and control groups are equal. Excluding 93% of treatment group or combining 93% of treatment group to control group:\n",
    "- lead to great imbalance between two groups.\n",
    "- actually reassign treatment depend on potential outcomes"
   ]
  },
  {
   "cell_type": "code",
   "execution_count": 22,
   "metadata": {},
   "outputs": [
    {
     "name": "stdout",
     "output_type": "stream",
     "text": [
      "Total units in treatment group: 100000\n",
      "Percentage of non-compliers in treatment group: 93.44 %\n",
      "\n",
      "Original Treatment/Control ratio: 50 / 50\n",
      "Treatment/Control ratio in as-treated: 3 / 97\n",
      "Treatment/Control ratio in per-protocol: 6 / 94\n"
     ]
    }
   ],
   "source": [
    "#Data show assumption invalid\n",
    "print(\"Total units in treatment group:\",data2.query(\"treatment == 1\").shape[0])\n",
    "print(\"Percentage of non-compliers in treatment group:\",\n",
    "      round(100-data2.query(\"treatment == 1\")['compliance'].mean()*100,2),\"%\")\n",
    "\n",
    "print(\"\\nOriginal Treatment/Control ratio:\",\n",
    "      round(len(data2.query(\"treatment == 1\"))*100/len(data2)),\"/\", \n",
    "      round(len(data2.query(\"treatment == 0\"))*100/len(data2)))\n",
    "\n",
    "print(\"Treatment/Control ratio in as-treated:\",\n",
    "      round(data2['compliance'].mean()*100),\"/\", \n",
    "      100 - round(data2['compliance'].mean()*100))\n",
    "\n",
    "print(\"Treatment/Control ratio in per-protocol:\",\n",
    "      round(len(data2.query(\"compliance == 1\"))*100/len(data2.query(\"compliance == 1 | treatment == 0\"))),\"/\", \n",
    "      round(len(data2.query(\"treatment == 0\"))*100/len(data2.query(\"compliance == 1 | treatment == 0\"))))"
   ]
  },
  {
   "cell_type": "markdown",
   "metadata": {},
   "source": [
    "### 2. (10 points) \n",
    "**Compute the estimate as given by the intent-to-treat estimator and Wald estimator. In one sentence each, explain exactly what each number measures. Explain in one further sentence why they differ from each other.**"
   ]
  },
  {
   "cell_type": "markdown",
   "metadata": {},
   "source": [
    "**Intent-to-treat** measures the difference between average of outcomes in treatment group and average of outcomes in control group"
   ]
  },
  {
   "cell_type": "code",
   "execution_count": 23,
   "metadata": {
    "scrolled": false
   },
   "outputs": [
    {
     "name": "stdout",
     "output_type": "stream",
     "text": [
      "Estimate by intent-to-treat method: 0.28\n"
     ]
    }
   ],
   "source": [
    "#Compute estimate\n",
    "ittr = (data2.query(\"treatment == 1\")['revenue'].mean() -\n",
    "        data2.query(\"treatment == 0\")['revenue'].mean())\n",
    "print(\"Estimate by intent-to-treat method:\",round(ittr,2))"
   ]
  },
  {
   "cell_type": "markdown",
   "metadata": {},
   "source": [
    "**Wald** calculates the difference for those who actually comply to the treatment"
   ]
  },
  {
   "cell_type": "code",
   "execution_count": 24,
   "metadata": {
    "scrolled": true
   },
   "outputs": [
    {
     "name": "stdout",
     "output_type": "stream",
     "text": [
      "Estimate by Wald method: 4.31\n"
     ]
    }
   ],
   "source": [
    "#Compute estimate\n",
    "wald = ittr/data2.query(\"treatment == 1\")['compliance'].mean()\n",
    "print(\"Estimate by Wald method:\",round(wald,2))"
   ]
  },
  {
   "cell_type": "markdown",
   "metadata": {},
   "source": [
    "Intent-to-treat differs from Wald since Wald takes into account the proportion of those who actually receive the treatment while intent-to-treat perceive those who are in treatment group as those who receive treatment."
   ]
  },
  {
   "cell_type": "markdown",
   "metadata": {},
   "source": [
    "### 3. (5 points) \n",
    "**Compute the standard deviation of the Wald estimate using the bootstrap. As always, be very clear about precisely how you performed the bootstrap, and why you chose to do it that way.**\n",
    "\n",
    "Bootstrap approach: there are exactly 100k units in treatment group and 100k units in control group. I believe this split is intentional and hence bootstrap will keep this same split."
   ]
  },
  {
   "cell_type": "code",
   "execution_count": 25,
   "metadata": {},
   "outputs": [],
   "source": [
    "#Get number of units in each group and number of compliers in each group.\n",
    "n_treatment = int(data2['treatment'].sum())\n",
    "n_control = int(len(data2) - n_treatment)\n",
    "N = [n_treatment, n_control]"
   ]
  },
  {
   "cell_type": "code",
   "execution_count": 26,
   "metadata": {},
   "outputs": [],
   "source": [
    "#Set up bootstrap sample function\n",
    "#Bootstrap approach: exact number of units in treatment and control. ~7% of compliers in treatment group\n",
    "def bstr_sample(data, N):   \n",
    "    index_treatment = np.random.choice(np.where(data['treatment'] == 1 )[0], \n",
    "                                           replace = True, size = N[0])\n",
    "\n",
    "    index_control = np.random.choice(np.where(data['treatment'] == 0)[0], \n",
    "                                         replace = True, size = N[1])\n",
    "\n",
    "    sample = pd.concat([data.iloc[index_treatment], \n",
    "                        data.iloc[index_control]], \n",
    "                       ignore_index=True, sort=False)\n",
    "    return sample"
   ]
  },
  {
   "cell_type": "code",
   "execution_count": 27,
   "metadata": {},
   "outputs": [],
   "source": [
    "#Run bootstrap\n",
    "wald_bstr = []\n",
    "\n",
    "for i in range(100):\n",
    "    sample = bstr_sample(data2, N)\n",
    "    ittr_bstr = sample.query('treatment == 1')['revenue'].mean() - sample.query('treatment == 0')['revenue'].mean()\n",
    "    wald_bstr.append(ittr_bstr/sample.query(\"treatment == 1\")['compliance'].mean())"
   ]
  },
  {
   "cell_type": "code",
   "execution_count": 28,
   "metadata": {},
   "outputs": [
    {
     "name": "stdout",
     "output_type": "stream",
     "text": [
      "Mean of bootstrap, Wald estimator: 4.3073\n",
      "std of bootstrap, Wald estimator: 0.4487\n"
     ]
    }
   ],
   "source": [
    "print(\"Mean of bootstrap, Wald estimator:\",round(np.mean(wald_bstr),4))\n",
    "print(\"std of bootstrap, Wald estimator:\",round(np.std(wald_bstr),4))"
   ]
  },
  {
   "cell_type": "markdown",
   "metadata": {},
   "source": [
    "### 4. \n",
    "\n",
    "**Using the variables given (excluding \"signal\"), construct the estimate as given by the weighted Wald estimator. There are three key steps:**\n",
    "\n",
    "**4(a) (10 points) First, predict compliance across the entire sample using all pre-experimental variables. To predict compliance, you'll first have to build a model, using your treatment group to train. Explain why we use only the treatment group as the training set, and further explain any other choices you make while constructing the model. Note that full\n",
    "credit will be awarded to linear regression models, but you are welcome to pick any more complicated class of models (e.g. logistic regression, random forest, etc) if curious.**\n",
    "\n",
    "In this dataset, compliance's data only present in treatment group, not control group. If we use control group to build a model to predict compliance, this model is useless as it cannot predict compliance. Treatment group has 7% of units are compliers. Hence it is more appropriate to use treatment group as training set.\n",
    "\n",
    "Construction of model:\n",
    "- Linear regression is used for simplicity. Variables included in the regression are: age, gender and zone. These variables exist before experiment, hence can be consider pre-experiment.\n",
    "- To avoid training and predicting on the same observation, treatment group is split into 2 training sets: treatment1 and treatment2. Two is good enought as compliance proportion is just 7%. Splitting treatment group into more training sets would reduce the number of compliers in each training sets, and hence could affect the model's performance.\n",
    "- Now having two models, control group is also split into 2: control1 and control2. This will ensure equal number of predicted units for each model.\n",
    "- Run regression on treatment1 and use it to predict for treatment2, control2\n",
    "- Run regression on treatment2 and use it to predict for treatment1, control1\n",
    "- The results of the models are not binary and could be out of range (0,1) since this is linear regression. However, the purpose of building these model is to assign weight based on the compliance prediction. Normally, sigmoid should be used to return the model's prediction to probability. However, since these weights present in both numerator and denominator in the weighted Wald estimator, it's not necessary to turn the results into probability."
   ]
  },
  {
   "cell_type": "code",
   "execution_count": 29,
   "metadata": {},
   "outputs": [
    {
     "name": "stdout",
     "output_type": "stream",
     "text": [
      "Number of compliers in control group: 0\n"
     ]
    }
   ],
   "source": [
    "print(\"Number of compliers in control group:\",data2.query(\"treatment == 0\")['compliance'].sum())"
   ]
  },
  {
   "cell_type": "markdown",
   "metadata": {},
   "source": [
    "The below function is set up to assign weights for each unit in data:\n",
    "- split treatment and control groups into 4 groups. All groups have the same number of units and are not duplicated\n",
    "- run linear regression as define above\n",
    "- use model's prediction to assign weight for each unit in data."
   ]
  },
  {
   "cell_type": "code",
   "execution_count": 30,
   "metadata": {},
   "outputs": [],
   "source": [
    "#Set up function to predict weight: SHORT VERSION\n",
    "def predict_weight(data, reg, ind_var, reg_formula = \"\", reg_model1 = \"\", reg_model2 = \"\"):\n",
    "    #reg = 0: regression at each iteration only. \n",
    "    #reg = 1: use fixed model only. input reg_model1, reg_model2\n",
    "    #reg = 2: use both\n",
    "    \n",
    "    #Split data into 4 groups:\n",
    "    index_treatment1 = np.random.choice((np.where(data['treatment'] == 1)[0]), round(n_treatment/2), replace = False)\n",
    "    index_treatment2 = data.drop(index_treatment1).query(\"treatment == 1\").index\n",
    "    index_control1 = np.random.choice((np.where(data['treatment'] == 0)[0]), round(n_control/2), replace = False)\n",
    "    index_control2 = data.drop(index_control1).query(\"treatment == 0\").index\n",
    "    \n",
    "    #Run regression at each iteration (reg =0):\n",
    "    if (reg == 0) | (reg == 2):\n",
    "        reg_1 = sfa.ols(reg_formula, data = data.iloc[index_treatment1]).fit(cov_type='HC1')\n",
    "        reg_2 = sfa.ols(reg_formula, data = data.iloc[index_treatment2]).fit(cov_type='HC1')\n",
    "\n",
    "        #Use model trained on treatment 1 to predict weight on treatment 2 and control 2:\n",
    "        data.loc[index_treatment2,'weight'] = reg_1.predict(data.loc[index_treatment2, ind_var])\n",
    "        data.loc[index_control2,'weight'] = reg_1.predict(data.loc[index_control2, ind_var])     \n",
    "\n",
    "        #Use model trained on treatment 2 to predict weight on treatment 1 and control 1:\n",
    "        data.loc[index_treatment1,'weight'] = reg_2.predict(data.loc[index_treatment1, ind_var])\n",
    "        data.loc[index_control1,'weight'] = reg_2.predict(data.loc[index_control1, ind_var])  \n",
    "\n",
    "\n",
    "    #If select approach to use a fixed model (aka reg = 1):\n",
    "    if (reg == 1) | (reg == 2):\n",
    "        #Use model trained on treatment 1 to predict weight on treatment 2 and control 2:\n",
    "        data.loc[index_treatment2, 'weight_fm'] = reg_model1.predict(data.loc[index_treatment2,ind_var])\n",
    "        data.loc[index_control2, 'weight_fm'] = reg_model1.predict(data.loc[index_control2, ind_var])\n",
    "        \n",
    "        #Use model trained on treatment 2 to predict weight on treatment 1 and control 1:\n",
    "        data.loc[index_treatment1, 'weight_fm'] = reg_model2.predict(data.loc[index_treatment1, ind_var])\n",
    "        data.loc[index_control1, 'weight_fm'] = reg_model2.predict(data.loc[index_control1, ind_var])\n",
    "        \n",
    "    return data, index_treatment1, index_treatment2"
   ]
  },
  {
   "cell_type": "markdown",
   "metadata": {},
   "source": [
    "The below function is set up to calculate weighted Wald estimator:"
   ]
  },
  {
   "cell_type": "code",
   "execution_count": 31,
   "metadata": {},
   "outputs": [],
   "source": [
    "#Set up function to calculate weighted Wald estimator:\n",
    "def weighted_wald(data, weight_col, outcomes_col, compliance_col):\n",
    "    outcomes_wght = data[outcomes_col]*data[weight_col]\n",
    "    ittr_wght = (np.mean(outcomes_wght[np.where(data['treatment'] == 1)[0]]) - \n",
    "                 np.mean(outcomes_wght[np.where(data['treatment'] == 0)[0]]))\n",
    "    wald_wght = (ittr_wght/\n",
    "                 np.mean((data[compliance_col]*data[weight_col])[np.where(data['treatment'] == 1)[0]]))\n",
    "    \n",
    "    return wald_wght"
   ]
  },
  {
   "cell_type": "markdown",
   "metadata": {},
   "source": [
    "**4(b) (5 points) Second, using these predictions as the weights, compute estimate as given by the weighted Wald estimator. Remember that the weighted Wald estimator is just the Wald estimator, except each term in the numerator and denominator is multiplied by weights.**"
   ]
  },
  {
   "cell_type": "code",
   "execution_count": 32,
   "metadata": {},
   "outputs": [
    {
     "name": "stdout",
     "output_type": "stream",
     "text": [
      "Estimate by Weighted Wald method, simple model: 4.1115\n"
     ]
    }
   ],
   "source": [
    "reg_formula = \"compliance ~ age + gender + zone\"\n",
    "ind_var = ['age', 'gender', 'zone']\n",
    "\n",
    "# predict_weight(data, reg, reg_model1 = None, reg_model2 = None, reg_formula = None, ind_var = None):\n",
    "\n",
    "result = predict_weight(data = data2.copy(), reg = 0, reg_formula = reg_formula, ind_var = ind_var)\n",
    "\n",
    "reg4_1 = sfa.ols(reg_formula, data = result[0].iloc[result[1]]).fit(cov_type='HC1')\n",
    "reg4_2 = sfa.ols(reg_formula, data = result[0].iloc[result[2]]).fit(cov_type='HC1')\n",
    "\n",
    "wald_wght = weighted_wald(data = result[0],\n",
    "                          weight_col = 'weight',\n",
    "                          outcomes_col = 'revenue',\n",
    "                          compliance_col = 'compliance')\n",
    "\n",
    "print(\"Estimate by Weighted Wald method, simple model:\",round(wald_wght,4))"
   ]
  },
  {
   "cell_type": "markdown",
   "metadata": {},
   "source": [
    "**4(c) (10 points) Third, the standard deviation of the weighted Wald estimator by bootstrapping. There are two approaches: you can construct a new model for each bootstrap iteration, or you can hold your original model fixed. Discuss the tradeoffs between these two approaches. You may implement either one for full credit.**\n",
    "\n",
    "In the code below, functions *bstr_sample* is set up in question 3, *predict_weight* and *weighted_wald* are set up in question 4(a)"
   ]
  },
  {
   "cell_type": "code",
   "execution_count": 33,
   "metadata": {},
   "outputs": [],
   "source": [
    "wald_wght_bstr1 = []\n",
    "wald_wght_bstr2 = []\n",
    "\n",
    "for i in range(100):\n",
    "    #select sample with bootstrap:\n",
    "    sample_wght = bstr_sample(data2, N)\n",
    "    \n",
    "    #predict weight:\n",
    "    sample_wght = predict_weight(data = sample_wght, reg = 2, \n",
    "                                 reg_formula = reg_formula, reg_model1 = reg4_1, reg_model2 = reg4_2, \n",
    "                                 ind_var = ind_var)[0]\n",
    "    \n",
    "    #calculate Weighted Wald, using regression at each iteration:\n",
    "    wald_wght_bstr1.append(weighted_wald(data = sample_wght, \n",
    "                                         weight_col = 'weight', \n",
    "                                         outcomes_col = 'revenue', \n",
    "                                         compliance_col = 'compliance'))\n",
    "    \n",
    "    #calculate Weighted Wald, using fixed models for all iteration - models reg4_1 & reg4_2 from question 4(b):\n",
    "    wald_wght_bstr2.append(weighted_wald(data = sample_wght, \n",
    "                                         weight_col = 'weight_fm', \n",
    "                                         outcomes_col = 'revenue', \n",
    "                                         compliance_col = 'compliance'))"
   ]
  },
  {
   "cell_type": "code",
   "execution_count": 34,
   "metadata": {},
   "outputs": [
    {
     "data": {
      "text/html": [
       "<div>\n",
       "<style scoped>\n",
       "    .dataframe tbody tr th:only-of-type {\n",
       "        vertical-align: middle;\n",
       "    }\n",
       "\n",
       "    .dataframe tbody tr th {\n",
       "        vertical-align: top;\n",
       "    }\n",
       "\n",
       "    .dataframe thead th {\n",
       "        text-align: right;\n",
       "    }\n",
       "</style>\n",
       "<table border=\"1\" class=\"dataframe\">\n",
       "  <thead>\n",
       "    <tr style=\"text-align: right;\">\n",
       "      <th></th>\n",
       "      <th>revenue</th>\n",
       "      <th>treatment</th>\n",
       "      <th>compliance</th>\n",
       "      <th>age</th>\n",
       "      <th>gender</th>\n",
       "      <th>zone</th>\n",
       "      <th>signal</th>\n",
       "      <th>weight</th>\n",
       "      <th>weight_fm</th>\n",
       "    </tr>\n",
       "  </thead>\n",
       "  <tbody>\n",
       "    <tr>\n",
       "      <th>0</th>\n",
       "      <td>25.238724</td>\n",
       "      <td>1</td>\n",
       "      <td>0</td>\n",
       "      <td>65</td>\n",
       "      <td>m</td>\n",
       "      <td>3</td>\n",
       "      <td>0.024422</td>\n",
       "      <td>0.026719</td>\n",
       "      <td>0.026817</td>\n",
       "    </tr>\n",
       "    <tr>\n",
       "      <th>1</th>\n",
       "      <td>18.192236</td>\n",
       "      <td>1</td>\n",
       "      <td>0</td>\n",
       "      <td>37</td>\n",
       "      <td>m</td>\n",
       "      <td>5</td>\n",
       "      <td>0.144485</td>\n",
       "      <td>0.061504</td>\n",
       "      <td>0.064573</td>\n",
       "    </tr>\n",
       "    <tr>\n",
       "      <th>2</th>\n",
       "      <td>14.802337</td>\n",
       "      <td>1</td>\n",
       "      <td>0</td>\n",
       "      <td>46</td>\n",
       "      <td>o</td>\n",
       "      <td>5</td>\n",
       "      <td>-0.093538</td>\n",
       "      <td>0.040097</td>\n",
       "      <td>0.042783</td>\n",
       "    </tr>\n",
       "    <tr>\n",
       "      <th>3</th>\n",
       "      <td>16.913906</td>\n",
       "      <td>1</td>\n",
       "      <td>0</td>\n",
       "      <td>38</td>\n",
       "      <td>m</td>\n",
       "      <td>2</td>\n",
       "      <td>0.127396</td>\n",
       "      <td>0.135532</td>\n",
       "      <td>0.137332</td>\n",
       "    </tr>\n",
       "    <tr>\n",
       "      <th>4</th>\n",
       "      <td>24.046640</td>\n",
       "      <td>1</td>\n",
       "      <td>1</td>\n",
       "      <td>25</td>\n",
       "      <td>m</td>\n",
       "      <td>3</td>\n",
       "      <td>1.014717</td>\n",
       "      <td>0.146023</td>\n",
       "      <td>0.150377</td>\n",
       "    </tr>\n",
       "  </tbody>\n",
       "</table>\n",
       "</div>"
      ],
      "text/plain": [
       "     revenue  treatment  compliance  age gender  zone    signal    weight  \\\n",
       "0  25.238724          1           0   65      m     3  0.024422  0.026719   \n",
       "1  18.192236          1           0   37      m     5  0.144485  0.061504   \n",
       "2  14.802337          1           0   46      o     5 -0.093538  0.040097   \n",
       "3  16.913906          1           0   38      m     2  0.127396  0.135532   \n",
       "4  24.046640          1           1   25      m     3  1.014717  0.146023   \n",
       "\n",
       "   weight_fm  \n",
       "0   0.026817  \n",
       "1   0.064573  \n",
       "2   0.042783  \n",
       "3   0.137332  \n",
       "4   0.150377  "
      ]
     },
     "execution_count": 34,
     "metadata": {},
     "output_type": "execute_result"
    }
   ],
   "source": [
    "sample_wght.head()"
   ]
  },
  {
   "cell_type": "code",
   "execution_count": 35,
   "metadata": {},
   "outputs": [
    {
     "name": "stdout",
     "output_type": "stream",
     "text": [
      "Mean of Weighted Wald estimator from bootstrap with regression at each iteration: 4.0969\n",
      "Std of Weighted Wald estimator from bootstrap with regression at each iteration: 0.6433\n",
      "\n",
      "Mean of Weighted Wald estimator from bootstrap with fixed model: 4.0952\n",
      "Std of Weighted Wald estimator from bootstrap with regression at each iteration: 0.6406\n"
     ]
    }
   ],
   "source": [
    "print(\"Mean of Weighted Wald estimator from bootstrap with regression at each iteration:\",round(np.mean(wald_wght_bstr1),4))\n",
    "print(\"Std of Weighted Wald estimator from bootstrap with regression at each iteration:\",round(np.std(wald_wght_bstr1),4))\n",
    "\n",
    "print(\"\\nMean of Weighted Wald estimator from bootstrap with fixed model:\",round(np.mean(wald_wght_bstr2),4))\n",
    "print(\"Std of Weighted Wald estimator from bootstrap with regression at each iteration:\",round(np.std(wald_wght_bstr2),4))"
   ]
  },
  {
   "cell_type": "code",
   "execution_count": 36,
   "metadata": {},
   "outputs": [
    {
     "data": {
      "image/png": "[encoded data removed]",
      "text/plain": [
       "<Figure size 936x360 with 1 Axes>"
      ]
     },
     "metadata": {
      "needs_background": "light"
     },
     "output_type": "display_data"
    }
   ],
   "source": [
    "plt.figure(figsize = (13,5))\n",
    "sns.kdeplot(wald_wght_bstr1, color = 'black', label = \"Regression at each iteration\")\n",
    "sns.kdeplot(wald_wght_bstr2, color = 'green', label = \"Fixed model\")\n",
    "plt.title(\"Distribution of estimates from bootstrap\")\n",
    "plt.show()"
   ]
  },
  {
   "cell_type": "markdown",
   "metadata": {},
   "source": [
    "There's not much difference between the two approaches in terms of mean and std. Regression at each iteration will update the model each time and hence the models will fit to train data at each iteration more than fixed models. However, given the large sample size and number of iteration, eventually, results of both approaches will be very closed to each other. The downside of running regression at each iteration is cost. This could slow down the process if the model is more complicated and the sample size is much larger than this."
   ]
  },
  {
   "cell_type": "markdown",
   "metadata": {},
   "source": [
    "### 5. \n",
    "**Now let's introduce the last variable, signal. A data scientist at DoorDash tells you that she has found a high-quality predictor of compliance, called signal.** \n",
    "\n",
    "**5(a) (10 points) First, using this new variable along with all original variables, build a new model to predict compliance, generate a new weighted Wald estimate, and generate new standard errors by bootstrap.**\n",
    "\n",
    "Build new model and generate new weighted Wald estimate:"
   ]
  },
  {
   "cell_type": "code",
   "execution_count": 37,
   "metadata": {},
   "outputs": [
    {
     "name": "stdout",
     "output_type": "stream",
     "text": [
      "Estimate by enhanced Weighted Wald: 3.9742\n"
     ]
    }
   ],
   "source": [
    "reg_formula_new = \"compliance ~ age + gender + zone + signal\"\n",
    "ind_var_new = ['age', 'gender', 'zone', 'signal']\n",
    "\n",
    "# predict_weight(data, reg, reg_model1 = None, reg_model2 = None, reg_formula = None, ind_var = None):\n",
    "\n",
    "result_new = predict_weight(data = data2.copy(), reg = 0, reg_formula = reg_formula_new, ind_var = ind_var_new)\n",
    "\n",
    "reg5_1 = sfa.ols(reg_formula_new, data = result_new[0].iloc[result[1]]).fit(cov_type='HC1')\n",
    "reg5_2 = sfa.ols(reg_formula_new, data = result_new[0].iloc[result[2]]).fit(cov_type='HC1')\n",
    "\n",
    "wald_wght_new = weighted_wald(data = result_new[0],\n",
    "                              weight_col = 'weight',\n",
    "                              outcomes_col = 'revenue',\n",
    "                              compliance_col = 'compliance')\n",
    "\n",
    "print(\"Estimate by enhanced Weighted Wald:\",round(wald_wght_new,4))"
   ]
  },
  {
   "cell_type": "markdown",
   "metadata": {},
   "source": [
    "Bootstrap, use fixed model:"
   ]
  },
  {
   "cell_type": "code",
   "execution_count": 38,
   "metadata": {},
   "outputs": [],
   "source": [
    "wald_wght_new_bstr2 = []\n",
    "\n",
    "for i in range(100):\n",
    "    #select sample:\n",
    "    sample_new_wght = bstr_sample(data2, N)\n",
    "    \n",
    "    #predict weight:\n",
    "    sample_new_wght = predict_weight(data = sample_new_wght, reg = 1, \n",
    "                                 reg_model1 = reg5_1, reg_model2 = reg5_2, \n",
    "                                 ind_var = ind_var_new)[0]\n",
    "    \n",
    "    #calculate Weighted Wald, using fixed models for all iteration - models reg4_1 & reg4_2 from question 4(b):\n",
    "    wald_wght_new_bstr2.append(weighted_wald(data = sample_new_wght, \n",
    "                                         weight_col = 'weight_fm', \n",
    "                                         outcomes_col = 'revenue', \n",
    "                                         compliance_col = 'compliance'))"
   ]
  },
  {
   "cell_type": "code",
   "execution_count": 39,
   "metadata": {},
   "outputs": [
    {
     "name": "stdout",
     "output_type": "stream",
     "text": [
      "\n",
      "Mean of enhanced weighted Wald estimator from bootstrap: 3.9599\n",
      "Std of enhanced weighted Wald estimator from bootstrap: 0.3703\n"
     ]
    }
   ],
   "source": [
    "print(\"\\nMean of enhanced weighted Wald estimator from bootstrap:\",\n",
    "      round(np.mean(wald_wght_new_bstr2),4))\n",
    "print(\"Std of enhanced weighted Wald estimator from bootstrap:\",\n",
    "      round(np.std(wald_wght_new_bstr2),4))"
   ]
  },
  {
   "cell_type": "markdown",
   "metadata": {},
   "source": [
    "**(b) (5 points) Second, compare the model performance (e.g. R2) and the standard errors for this versus your original weighted Wald estimator. Which estimate do you trust more, and why?**\n",
    "\n",
    "The original weighted Wald estimator has R2 very low, only 0.08 and stand errors of around 0.5. The enhanced model has much higher R2 at 0.74 and lower standard errors of 0.4. The enhanced model is more trusted than the original model."
   ]
  },
  {
   "cell_type": "code",
   "execution_count": 40,
   "metadata": {},
   "outputs": [
    {
     "name": "stdout",
     "output_type": "stream",
     "text": [
      "Wald, mean: 4.3073 , std: 0.4487\n",
      "Simple weighted Wald, mean: 4.0952 , std: 0.6406\n",
      "Enhance weighted Wald, mean: 3.9599 , std: 0.3703\n"
     ]
    }
   ],
   "source": [
    "print(\"Wald, mean:\", round(np.mean(wald_bstr),4), \", std:\", round(np.std(wald_bstr),4))\n",
    "print(\"Simple weighted Wald, mean:\", round(np.mean(wald_wght_bstr2),4), \", std:\", round(np.std(wald_wght_bstr2),4))\n",
    "print(\"Enhance weighted Wald, mean:\", round(np.mean(wald_wght_new_bstr2),4), \", std:\", round(np.std(wald_wght_new_bstr2),4))"
   ]
  },
  {
   "cell_type": "code",
   "execution_count": 41,
   "metadata": {},
   "outputs": [
    {
     "name": "stdout",
     "output_type": "stream",
     "text": [
      "WEIGHTED WALD, SIMPLE MODEL ON TREATMENT1:\n",
      "                             OLS Regression Results                            \n",
      "==============================================================================\n",
      "Dep. Variable:             compliance   R-squared:                       0.082\n",
      "Model:                            OLS   Adj. R-squared:                  0.082\n",
      "Method:                 Least Squares   F-statistic:                     766.2\n",
      "Date:                Tue, 08 Sep 2020   Prob (F-statistic):               0.00\n",
      "Time:                        16:42:31   Log-Likelihood:                 1017.3\n",
      "No. Observations:               50000   AIC:                            -2025.\n",
      "Df Residuals:                   49995   BIC:                            -1980.\n",
      "Df Model:                           4                                         \n",
      "Covariance Type:                  HC1                                         \n",
      "===============================================================================\n",
      "                  coef    std err          z      P>|z|      [0.025      0.975]\n",
      "-------------------------------------------------------------------------------\n",
      "Intercept       0.3014      0.006     53.590      0.000       0.290       0.312\n",
      "gender[T.m]     0.0014      0.003      0.550      0.582      -0.004       0.006\n",
      "gender[T.o]     0.0057      0.003      2.181      0.029       0.001       0.011\n",
      "age            -0.0030   7.98e-05    -38.200      0.000      -0.003      -0.003\n",
      "zone           -0.0248      0.000    -51.716      0.000      -0.026      -0.024\n",
      "==============================================================================\n",
      "Omnibus:                    30794.786   Durbin-Watson:                   2.007\n",
      "Prob(Omnibus):                  0.000   Jarque-Bera (JB):           227796.445\n",
      "Skew:                           3.055   Prob(JB):                         0.00\n",
      "Kurtosis:                      11.485   Cond. No.                         186.\n",
      "==============================================================================\n",
      "\n",
      "Warnings:\n",
      "[1] Standard Errors are heteroscedasticity robust (HC1)\n",
      "\n",
      "WEIGHTED WALD, SIMPLE MODEL ON TREATMENT2:\n",
      "                             OLS Regression Results                            \n",
      "==============================================================================\n",
      "Dep. Variable:             compliance   R-squared:                       0.081\n",
      "Model:                            OLS   Adj. R-squared:                  0.081\n",
      "Method:                 Least Squares   F-statistic:                     755.7\n",
      "Date:                Tue, 08 Sep 2020   Prob (F-statistic):               0.00\n",
      "Time:                        16:42:31   Log-Likelihood:                 899.85\n",
      "No. Observations:               50000   AIC:                            -1790.\n",
      "Df Residuals:                   49995   BIC:                            -1746.\n",
      "Df Model:                           4                                         \n",
      "Covariance Type:                  HC1                                         \n",
      "===============================================================================\n",
      "                  coef    std err          z      P>|z|      [0.025      0.975]\n",
      "-------------------------------------------------------------------------------\n",
      "Intercept       0.3065      0.006     53.949      0.000       0.295       0.318\n",
      "gender[T.m]    -0.0058      0.003     -2.223      0.026      -0.011      -0.001\n",
      "gender[T.o]    -0.0018      0.003     -0.698      0.485      -0.007       0.003\n",
      "age            -0.0031   8.05e-05    -38.350      0.000      -0.003      -0.003\n",
      "zone           -0.0244      0.000    -50.894      0.000      -0.025      -0.023\n",
      "==============================================================================\n",
      "Omnibus:                    30780.240   Durbin-Watson:                   2.009\n",
      "Prob(Omnibus):                  0.000   Jarque-Bera (JB):           227089.319\n",
      "Skew:                           3.055   Prob(JB):                         0.00\n",
      "Kurtosis:                      11.466   Cond. No.                         187.\n",
      "==============================================================================\n",
      "\n",
      "Warnings:\n",
      "[1] Standard Errors are heteroscedasticity robust (HC1)\n"
     ]
    }
   ],
   "source": [
    "print(\"WEIGHTED WALD, SIMPLE MODEL ON TREATMENT1:\\n\",reg4_1.summary())\n",
    "print(\"\\nWEIGHTED WALD, SIMPLE MODEL ON TREATMENT2:\\n\",reg4_2.summary())"
   ]
  },
  {
   "cell_type": "code",
   "execution_count": 42,
   "metadata": {},
   "outputs": [
    {
     "name": "stdout",
     "output_type": "stream",
     "text": [
      "WEIGHTED WALD, ENHANCED MODEL ON TREATMENT1:\n",
      "                             OLS Regression Results                            \n",
      "==============================================================================\n",
      "Dep. Variable:             compliance   R-squared:                       0.739\n",
      "Model:                            OLS   Adj. R-squared:                  0.739\n",
      "Method:                 Least Squares   F-statistic:                     9463.\n",
      "Date:                Tue, 08 Sep 2020   Prob (F-statistic):               0.00\n",
      "Time:                        16:42:40   Log-Likelihood:                 32448.\n",
      "No. Observations:               50000   AIC:                        -6.488e+04\n",
      "Df Residuals:                   49994   BIC:                        -6.483e+04\n",
      "Df Model:                           5                                         \n",
      "Covariance Type:                  HC1                                         \n",
      "===============================================================================\n",
      "                  coef    std err          z      P>|z|      [0.025      0.975]\n",
      "-------------------------------------------------------------------------------\n",
      "Intercept       0.0842      0.002     37.536      0.000       0.080       0.089\n",
      "gender[T.m]     0.0007      0.001      0.543      0.587      -0.002       0.003\n",
      "gender[T.o]     0.0003      0.001      0.192      0.848      -0.002       0.003\n",
      "age            -0.0008   4.01e-05    -20.975      0.000      -0.001      -0.001\n",
      "zone           -0.0068      0.000    -29.063      0.000      -0.007      -0.006\n",
      "signal          0.7150      0.003    214.970      0.000       0.708       0.722\n",
      "==============================================================================\n",
      "Omnibus:                     2314.265   Durbin-Watson:                   2.001\n",
      "Prob(Omnibus):                  0.000   Jarque-Bera (JB):             2998.975\n",
      "Skew:                           0.474   Prob(JB):                         0.00\n",
      "Kurtosis:                       3.735   Cond. No.                         199.\n",
      "==============================================================================\n",
      "\n",
      "Warnings:\n",
      "[1] Standard Errors are heteroscedasticity robust (HC1)\n",
      "\n",
      "WEIGHTED WALD, ENHANCED MODEL ON TREATMENT2:\n",
      "                             OLS Regression Results                            \n",
      "==============================================================================\n",
      "Dep. Variable:             compliance   R-squared:                       0.738\n",
      "Model:                            OLS   Adj. R-squared:                  0.738\n",
      "Method:                 Least Squares   F-statistic:                     9462.\n",
      "Date:                Tue, 08 Sep 2020   Prob (F-statistic):               0.00\n",
      "Time:                        16:42:40   Log-Likelihood:                 32304.\n",
      "No. Observations:               50000   AIC:                        -6.460e+04\n",
      "Df Residuals:                   49994   BIC:                        -6.454e+04\n",
      "Df Model:                           5                                         \n",
      "Covariance Type:                  HC1                                         \n",
      "===============================================================================\n",
      "                  coef    std err          z      P>|z|      [0.025      0.975]\n",
      "-------------------------------------------------------------------------------\n",
      "Intercept       0.0866      0.002     37.957      0.000       0.082       0.091\n",
      "gender[T.m]    -0.0020      0.001     -1.405      0.160      -0.005       0.001\n",
      "gender[T.o]    -0.0026      0.001     -1.879      0.060      -0.005       0.000\n",
      "age            -0.0009   4.05e-05    -21.563      0.000      -0.001      -0.001\n",
      "zone           -0.0067      0.000    -28.530      0.000      -0.007      -0.006\n",
      "signal          0.7173      0.003    214.747      0.000       0.711       0.724\n",
      "==============================================================================\n",
      "Omnibus:                     2309.780   Durbin-Watson:                   2.008\n",
      "Prob(Omnibus):                  0.000   Jarque-Bera (JB):             2960.027\n",
      "Skew:                           0.478   Prob(JB):                         0.00\n",
      "Kurtosis:                       3.712   Cond. No.                         200.\n",
      "==============================================================================\n",
      "\n",
      "Warnings:\n",
      "[1] Standard Errors are heteroscedasticity robust (HC1)\n"
     ]
    }
   ],
   "source": [
    "print(\"WEIGHTED WALD, ENHANCED MODEL ON TREATMENT1:\\n\",reg5_1.summary())\n",
    "print(\"\\nWEIGHTED WALD, ENHANCED MODEL ON TREATMENT2:\\n\",reg5_2.summary())"
   ]
  },
  {
   "cell_type": "markdown",
   "metadata": {},
   "source": [
    "### 6. (5 points) \n",
    "**We now have collected three estimates with three standard errors: Wald, weighted Wald for a simple model (i.e. no \"signal\"), and weighted Wald for an enhanced model (i.e. with \"signal\"). Depict all three point estimates and variances graphically.**\n"
   ]
  },
  {
   "cell_type": "code",
   "execution_count": 43,
   "metadata": {},
   "outputs": [
    {
     "name": "stdout",
     "output_type": "stream",
     "text": [
      "Wald, mean: 4.3073 , std: 0.4487\n",
      "Simple weighted Wald, mean: 4.0952 , std: 0.6406\n",
      "Enhance weighted Wald, mean: 3.9599 , std: 0.3703\n"
     ]
    }
   ],
   "source": [
    "print(\"Wald, mean:\", round(np.mean(wald_bstr),4), \", std:\", round(np.std(wald_bstr),4))\n",
    "print(\"Simple weighted Wald, mean:\", round(np.mean(wald_wght_bstr2),4), \", std:\", round(np.std(wald_wght_bstr2),4))\n",
    "print(\"Enhance weighted Wald, mean:\", round(np.mean(wald_wght_new_bstr2),4), \", std:\", round(np.std(wald_wght_new_bstr2),4))"
   ]
  },
  {
   "cell_type": "code",
   "execution_count": 44,
   "metadata": {},
   "outputs": [
    {
     "data": {
      "image/png": "[encoded data removed]",
      "text/plain": [
       "<Figure size 1008x360 with 1 Axes>"
      ]
     },
     "metadata": {
      "needs_background": "light"
     },
     "output_type": "display_data"
    }
   ],
   "source": [
    "#Shift all estimators' means toward Wald estimator's mean for easy comparison of variances\n",
    "wald_wght_bstr2_shift = wald_wght_bstr2 + np.mean(wald_bstr) - np.mean(wald_wght_bstr2)\n",
    "wald_wght_new_bstr2_shift = wald_wght_new_bstr2 + np.mean(wald_bstr) - np.mean(wald_wght_new_bstr2)\n",
    "\n",
    "#Plot estimates\n",
    "plt.figure(figsize = (14,5))\n",
    "sns.kdeplot(wald_bstr, bw=0.5, color = 'black', label = 'Wald')\n",
    "sns.kdeplot(wald_wght_bstr2_shift, bw=0.5, color = 'blue', label = 'Simple Weighted Wald')\n",
    "sns.kdeplot(wald_wght_new_bstr2_shift, bw=0.5, color = 'orange', label = 'Enhanced Weighted Wald')\n",
    "\n",
    "plt.axvline( x= np.mean(wald_bstr),color='black', ls = \"--\")\n",
    "plt.text(x = np.mean(wald_bstr) + 0.05, y = 0.1, s = 'Mean',color = 'black')\n",
    "\n",
    "plt.title(\"Distribution of Wald and weighted Wald estimates from bootstrap\")\n",
    "plt.xticks([])\n",
    "plt.show()"
   ]
  },
  {
   "cell_type": "code",
   "execution_count": 45,
   "metadata": {},
   "outputs": [
    {
     "data": {
      "image/png": "[encoded data removed]",
      "text/plain": [
       "<Figure size 1008x360 with 1 Axes>"
      ]
     },
     "metadata": {
      "needs_background": "light"
     },
     "output_type": "display_data"
    }
   ],
   "source": [
    "#Plot estimates\n",
    "plt.figure(figsize = (14,5))\n",
    "sns.kdeplot(wald_bstr, bw=0.5, color = 'black', label = 'Wald')\n",
    "sns.kdeplot(wald_wght_bstr2, bw=0.5, color = 'blue', label = 'Simple Weighted Wald')\n",
    "sns.kdeplot(wald_wght_new_bstr2, bw=0.5, color = 'orange', label = 'Enhanced Weighted Wald')\n",
    "\n",
    "plt.axvline( x= np.mean(wald_bstr),color='black', ls = \":\", label = 'Mean Wald')\n",
    "plt.axvline( x= np.mean(wald_wght_bstr2),color='blue', ls = \":\", label = 'Mean simple weighted Wald')\n",
    "plt.axvline( x= np.mean(wald_wght_new_bstr2),color='orange', ls = \":\", label = 'Mean enhanced weighted Wald')\n",
    "plt.legend()\n",
    "\n",
    "plt.title(\"Distribution of Wald and weighted Wald estimates from bootstrap\")\n",
    "#plt.xticks([])\n",
    "plt.show()"
   ]
  }
 ],
 "metadata": {
  "kernelspec": {
   "display_name": "Python 3",
   "language": "python",
   "name": "python3"
  },
  "language_info": {
   "codemirror_mode": {
    "name": "ipython",
    "version": 3
   },
   "file_extension": ".py",
   "mimetype": "text/x-python",
   "name": "python",
   "nbconvert_exporter": "python",
   "pygments_lexer": "ipython3",
   "version": "3.7.3"
  }
 },
 "nbformat": 4,
 "nbformat_minor": 2
}

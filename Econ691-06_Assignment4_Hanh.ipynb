{
 "cells": [
  {
   "cell_type": "markdown",
   "metadata": {},
   "source": [
    "**Econ691-06 | Hanh Nong**\n",
    "# <center>ASSIGNMENT 4</center>"
   ]
  },
  {
   "cell_type": "code",
   "execution_count": 42,
   "metadata": {},
   "outputs": [],
   "source": [
    "#setup\n",
    "import pandas as pd\n",
    "import numpy as np\n",
    "import matplotlib.pyplot as plt\n",
    "import statsmodels.formula.api as sfa\n",
    "from statsmodels.iolib.summary2 import summary_col\n",
    "from scipy import stats\n",
    "import seaborn as sns\n",
    "from scipy.stats import norm"
   ]
  },
  {
   "cell_type": "markdown",
   "metadata": {},
   "source": [
    "## PROBLEM 1: Quasi-Experimental Methods, Part I\n",
    "\n",
    "Hello Fresh is a meal-preparation service that operates in several countries. It sends subscribers the ingredients to cook meals a few times a week. Assume in this stylized problem that Hello Fresh has a single meal plan and operates in the US, Canada, and Australia. It collects feedback from consumers with monthly surveys, scored from 0 through 10. \n",
    "\n",
    "Hello Fresh recently pioneered a low-sodium version of its meal plan. It does not have the logistical infrastructure to provide two different meal plans in the same country, but it still wants to understand the effect of the low-sodium plan on satisfaction ratings. It thus rolls out the low-sodium plan in the US only, without making changes in Canada and Australia. Note that this roll-out only occurred at the start of August; until then, all consumers received the regular meal plan. Hello Fresh asks you to use this data to estimate a treatment effect.\n",
    "\n",
    "The data is in the file data_assignment4_1.csv. The file has 3,000 rows. Each row corresponds to a separate user, for which there are three columns. The first column is the user's country: US, CA (Canada), or AU (Australia). The second column is the month in which the survey took place: one of April, May, June, July, or August (2020). The third column is the outcome, i.e. the user's surveyed satisfaction from 0 through 10. There are exactly 1,000 users from each country."
   ]
  },
  {
   "cell_type": "code",
   "execution_count": 43,
   "metadata": {},
   "outputs": [],
   "source": [
    "data1 = pd.read_csv(\"data_assignment4_1.csv\")"
   ]
  },
  {
   "cell_type": "code",
   "execution_count": 44,
   "metadata": {},
   "outputs": [
    {
     "name": "stdout",
     "output_type": "stream",
     "text": [
      "<class 'pandas.core.frame.DataFrame'>\n",
      "RangeIndex: 3000 entries, 0 to 2999\n",
      "Data columns (total 3 columns):\n",
      "country         3000 non-null object\n",
      "month           3000 non-null object\n",
      "satisfaction    2951 non-null float64\n",
      "dtypes: float64(1), object(2)\n",
      "memory usage: 70.4+ KB\n"
     ]
    }
   ],
   "source": [
    "data1.info()"
   ]
  },
  {
   "cell_type": "code",
   "execution_count": 45,
   "metadata": {},
   "outputs": [
    {
     "data": {
      "text/plain": [
       "country          3\n",
       "month            5\n",
       "satisfaction    11\n",
       "dtype: int64"
      ]
     },
     "execution_count": 45,
     "metadata": {},
     "output_type": "execute_result"
    }
   ],
   "source": [
    "data1.nunique()"
   ]
  },
  {
   "cell_type": "code",
   "execution_count": 46,
   "metadata": {
    "scrolled": true
   },
   "outputs": [
    {
     "data": {
      "text/html": [
       "<div>\n",
       "<style scoped>\n",
       "    .dataframe tbody tr th:only-of-type {\n",
       "        vertical-align: middle;\n",
       "    }\n",
       "\n",
       "    .dataframe tbody tr th {\n",
       "        vertical-align: top;\n",
       "    }\n",
       "\n",
       "    .dataframe thead th {\n",
       "        text-align: right;\n",
       "    }\n",
       "</style>\n",
       "<table border=\"1\" class=\"dataframe\">\n",
       "  <thead>\n",
       "    <tr style=\"text-align: right;\">\n",
       "      <th></th>\n",
       "      <th>satisfaction</th>\n",
       "    </tr>\n",
       "  </thead>\n",
       "  <tbody>\n",
       "    <tr>\n",
       "      <th>count</th>\n",
       "      <td>2951.000000</td>\n",
       "    </tr>\n",
       "    <tr>\n",
       "      <th>mean</th>\n",
       "      <td>5.212131</td>\n",
       "    </tr>\n",
       "    <tr>\n",
       "      <th>std</th>\n",
       "      <td>2.259834</td>\n",
       "    </tr>\n",
       "    <tr>\n",
       "      <th>min</th>\n",
       "      <td>0.000000</td>\n",
       "    </tr>\n",
       "    <tr>\n",
       "      <th>25%</th>\n",
       "      <td>4.000000</td>\n",
       "    </tr>\n",
       "    <tr>\n",
       "      <th>50%</th>\n",
       "      <td>5.000000</td>\n",
       "    </tr>\n",
       "    <tr>\n",
       "      <th>75%</th>\n",
       "      <td>7.000000</td>\n",
       "    </tr>\n",
       "    <tr>\n",
       "      <th>max</th>\n",
       "      <td>10.000000</td>\n",
       "    </tr>\n",
       "  </tbody>\n",
       "</table>\n",
       "</div>"
      ],
      "text/plain": [
       "       satisfaction\n",
       "count   2951.000000\n",
       "mean       5.212131\n",
       "std        2.259834\n",
       "min        0.000000\n",
       "25%        4.000000\n",
       "50%        5.000000\n",
       "75%        7.000000\n",
       "max       10.000000"
      ]
     },
     "execution_count": 46,
     "metadata": {},
     "output_type": "execute_result"
    }
   ],
   "source": [
    "data1.describe()"
   ]
  },
  {
   "cell_type": "code",
   "execution_count": 47,
   "metadata": {},
   "outputs": [
    {
     "data": {
      "text/plain": [
       "country         3\n",
       "month           5\n",
       "satisfaction    0\n",
       "dtype: int64"
      ]
     },
     "execution_count": 47,
     "metadata": {},
     "output_type": "execute_result"
    }
   ],
   "source": [
    "data1.iloc[np.where(data1['satisfaction'].isnull())[0],].nunique()"
   ]
  },
  {
   "cell_type": "markdown",
   "metadata": {},
   "source": [
    "There are 49 NA values in satisfaction, across 3 countries and 5 months. This is not a large number compared to 3000 observations, ~1.6%. Hence, they can be removed from data."
   ]
  },
  {
   "cell_type": "code",
   "execution_count": 48,
   "metadata": {},
   "outputs": [
    {
     "name": "stdout",
     "output_type": "stream",
     "text": [
      "<class 'pandas.core.frame.DataFrame'>\n",
      "Int64Index: 2951 entries, 0 to 2999\n",
      "Data columns (total 3 columns):\n",
      "country         2951 non-null object\n",
      "month           2951 non-null object\n",
      "satisfaction    2951 non-null float64\n",
      "dtypes: float64(1), object(2)\n",
      "memory usage: 92.2+ KB\n"
     ]
    }
   ],
   "source": [
    "data1.dropna(inplace = True)\n",
    "data1.info()"
   ]
  },
  {
   "cell_type": "code",
   "execution_count": 49,
   "metadata": {},
   "outputs": [],
   "source": [
    "#Set up bootstrap function:\n",
    "def bstr_quasi(data, method, treatment_col, group = [\"\",\"\"], group_col = \"\"):\n",
    "    t_idx = np.where(data[treatment_col] == 1 )[0]\n",
    "    if method == \"event\":\n",
    "        c_idx = np.where(data[treatment_col] == 0)[0]\n",
    "        index_treatment = np.random.choice(t_idx, replace = True, size = len(t_idx))\n",
    "        index_control = np.random.choice(c_idx, replace = True, size = len(c_idx))\n",
    "        sample = pd.concat([data.iloc[index_treatment], \n",
    "                            data.iloc[index_control]], \n",
    "                           ignore_index=True, sort=False)    \n",
    "    else:\n",
    "        c_idx = data.iloc[np.where(data[group_col] == group[0])[0]].drop(t_idx).index        \n",
    "        index_treatment = np.random.choice(t_idx, replace = True, size = len(t_idx))\n",
    "        index_control = np.random.choice(c_idx, replace = True, size = len(c_idx))\n",
    "        index_parallel_group = np.random.choice(np.where(data[group_col] == group[1])[0], \n",
    "                                          replace = True, \n",
    "                                          size = len(data.iloc[np.where(data[group_col] == group[1])[0]]))\n",
    "        sample = pd.concat([data.iloc[index_treatment], \n",
    "                            data.iloc[index_control], \n",
    "                            data.iloc[index_parallel_group]], \n",
    "                           ignore_index=True, sort=False)\n",
    "    return sample"
   ]
  },
  {
   "cell_type": "markdown",
   "metadata": {},
   "source": [
    "### 1.1. (5 points)\n",
    "**Using the event study methodology, compute the effect of treatment (along with standard errors). Note any choices you make in determining the length of the pre-treatment period.**\n",
    "\n",
    "The pre-treatment period is 1 month right before the treatment. After-treatment period is only 1 month, hence, pre-treatment period of 1 month could be more comparable. "
   ]
  },
  {
   "cell_type": "code",
   "execution_count": 50,
   "metadata": {},
   "outputs": [
    {
     "data": {
      "text/plain": [
       "array(['April', 'May', 'June', 'July', 'August'], dtype=object)"
      ]
     },
     "execution_count": 50,
     "metadata": {},
     "output_type": "execute_result"
    }
   ],
   "source": [
    "data1['month'].unique()"
   ]
  },
  {
   "cell_type": "code",
   "execution_count": 51,
   "metadata": {},
   "outputs": [],
   "source": [
    "#Create dummy variable\n",
    "data1['treatment'] = ((data1['country'] ==  \"US\") & \n",
    "                      (data1['month'] == 'August')).astype(int)\n",
    "\n",
    "#Select period for treatment effect estimation\n",
    "exp_period = [\"July\", \"August\"]\n",
    "#exp_period = data1['month'].unique()\n",
    "\n",
    "#Subset data for experimental data\n",
    "data1_event = data1.iloc[np.where((data1['country'] == \"US\") & \n",
    "                                  (data1['month'].isin(exp_period)))[0],]"
   ]
  },
  {
   "cell_type": "code",
   "execution_count": 52,
   "metadata": {},
   "outputs": [],
   "source": [
    "#Run bootstrap\n",
    "bstr1_event = []\n",
    "for i in range(1000):\n",
    "    sample = bstr_quasi(data = data1_event, method = \"event\",\n",
    "                         treatment_col = \"treatment\")\n",
    "    bstr1_event.append(sfa.ols(\"satisfaction ~ treatment\", data = sample)\n",
    "                       .fit(cov_type='HC1').params[1])"
   ]
  },
  {
   "cell_type": "code",
   "execution_count": 53,
   "metadata": {},
   "outputs": [
    {
     "name": "stdout",
     "output_type": "stream",
     "text": [
      "Treatment effect, event study method: 0.872\n",
      "std, event study method: 0.187\n"
     ]
    }
   ],
   "source": [
    "print(\"Treatment effect, event study method:\", round(np.mean(bstr1_event),3))\n",
    "print(\"std, event study method:\", round(np.std(bstr1_event),3))"
   ]
  },
  {
   "cell_type": "markdown",
   "metadata": {},
   "source": [
    "### 1.2. (10 points)\n",
    "**Now, we prepare to do the differences-in-differences analysis. To do so, examine the parallel trends assumption across the US, Canada, and Australia. For which countries does this assumption hold better or worse?**\n",
    "\n",
    "In parallel trend assumption, we expect the untreated group would behave the same way as treated group if no treatment was applied. So, ideally, the control group should share same pattern in time trend with the treatment group in pre-treatment period. Historical satisfaction of CA & AU is visualized for the period before the treatment as below. Whichever country that has cosistent time trend with US would be control group for diff-if-diff method. \n",
    "\n",
    "US's satisfaction changed with moderate magnitude. CA's general time trend is more consistent with US than AU's. CA's satisfaction decreased/increased as US's satisfaction decreased/increased and with a relatively same magnitude over the time. AU's satisfaction is very volatile and did not follow US's general time trend. AU did follow the trend in June and July but with a much higher magnitude than US. Hence, the parallel trend assumption holds better for CA and worse for AU. Thus, CA is used as parallel trend in diff-in-diff method."
   ]
  },
  {
   "cell_type": "code",
   "execution_count": 54,
   "metadata": {},
   "outputs": [
    {
     "data": {
      "text/plain": [
       "array(['US', 'CA', 'AU'], dtype=object)"
      ]
     },
     "execution_count": 54,
     "metadata": {},
     "output_type": "execute_result"
    }
   ],
   "source": [
    "data1['country'].unique()"
   ]
  },
  {
   "cell_type": "code",
   "execution_count": 55,
   "metadata": {},
   "outputs": [
    {
     "data": {
      "text/html": [
       "<div>\n",
       "<style scoped>\n",
       "    .dataframe tbody tr th:only-of-type {\n",
       "        vertical-align: middle;\n",
       "    }\n",
       "\n",
       "    .dataframe tbody tr th {\n",
       "        vertical-align: top;\n",
       "    }\n",
       "\n",
       "    .dataframe thead th {\n",
       "        text-align: right;\n",
       "    }\n",
       "</style>\n",
       "<table border=\"1\" class=\"dataframe\">\n",
       "  <thead>\n",
       "    <tr style=\"text-align: right;\">\n",
       "      <th></th>\n",
       "      <th>AU</th>\n",
       "      <th>CA</th>\n",
       "      <th>US</th>\n",
       "    </tr>\n",
       "    <tr>\n",
       "      <th>mth</th>\n",
       "      <th></th>\n",
       "      <th></th>\n",
       "      <th></th>\n",
       "    </tr>\n",
       "  </thead>\n",
       "  <tbody>\n",
       "    <tr>\n",
       "      <th>0</th>\n",
       "      <td>3.664975</td>\n",
       "      <td>7.165829</td>\n",
       "      <td>5.274112</td>\n",
       "    </tr>\n",
       "    <tr>\n",
       "      <th>1</th>\n",
       "      <td>4.101523</td>\n",
       "      <td>6.809278</td>\n",
       "      <td>4.869347</td>\n",
       "    </tr>\n",
       "    <tr>\n",
       "      <th>2</th>\n",
       "      <td>3.639175</td>\n",
       "      <td>6.427835</td>\n",
       "      <td>4.587629</td>\n",
       "    </tr>\n",
       "    <tr>\n",
       "      <th>3</th>\n",
       "      <td>4.326531</td>\n",
       "      <td>6.800000</td>\n",
       "      <td>4.643216</td>\n",
       "    </tr>\n",
       "    <tr>\n",
       "      <th>4</th>\n",
       "      <td>4.040609</td>\n",
       "      <td>6.295918</td>\n",
       "      <td>5.510101</td>\n",
       "    </tr>\n",
       "  </tbody>\n",
       "</table>\n",
       "</div>"
      ],
      "text/plain": [
       "           AU        CA        US\n",
       "mth                              \n",
       "0    3.664975  7.165829  5.274112\n",
       "1    4.101523  6.809278  4.869347\n",
       "2    3.639175  6.427835  4.587629\n",
       "3    4.326531  6.800000  4.643216\n",
       "4    4.040609  6.295918  5.510101"
      ]
     },
     "execution_count": 55,
     "metadata": {},
     "output_type": "execute_result"
    }
   ],
   "source": [
    "#Prepare data for examining parallel trends: Group surveyed satisfaction data by month and by country\n",
    "data1['mth'] = pd.factorize(data1['month'])[0]\n",
    "data1_group = data1.groupby(['mth', 'country'])['satisfaction'].mean().unstack(-1)\n",
    "data1_group.columns = ['AU', 'CA', 'US']\n",
    "data1_group"
   ]
  },
  {
   "cell_type": "code",
   "execution_count": 56,
   "metadata": {
    "scrolled": false
   },
   "outputs": [
    {
     "data": {
      "image/png": "[encoded data removed]",
      "text/plain": [
       "<Figure size 576x432 with 1 Axes>"
      ]
     },
     "metadata": {
      "needs_background": "light"
     },
     "output_type": "display_data"
    }
   ],
   "source": [
    "#Plot trend through the time to spot the pattern between countries\n",
    "plt.figure(figsize = (8, 6))\n",
    "plt.semilogy(data1_group['US'], label = \"US\")\n",
    "plt.semilogy(data1_group['CA'], label = \"CA\")\n",
    "plt.semilogy(data1_group['AU'], label = \"AU\")\n",
    "plt.axvline( x= 3 ,color='black', ls = \"--\")\n",
    "plt.text(x = 2.25, y = 7, s = 'Before August',color = 'black')\n",
    "plt.title(\"Satisfaction trends\")\n",
    "plt.xlabel(\"Month\")\n",
    "plt.ylabel(\"Satisfaction's mean score\")\n",
    "plt.xticks(data1_group.index, data1['month'].unique())\n",
    "plt.legend()\n",
    "plt.show()"
   ]
  },
  {
   "cell_type": "markdown",
   "metadata": {},
   "source": [
    "### 1.3. (5 points)\n",
    "**Using the differences-in-differences methodology and your assessment from the previous question, compute the effect of treatment (along with standard errors).**"
   ]
  },
  {
   "cell_type": "code",
   "execution_count": 57,
   "metadata": {},
   "outputs": [],
   "source": [
    "#Subset data for experimental data\n",
    "data1_diff = data1.iloc[np.where((data1['month'].isin(exp_period)) & \n",
    "                                 (data1['country'] != \"AU\"))].reset_index(drop = True)\n",
    "\n",
    "#Dummy variable for time\n",
    "data1_diff['Aug'] = (data1_diff['month'] == \"August\").astype(int)\n",
    "\n",
    "#Dummy variable for country\n",
    "data1_diff['US'] = (data1_diff['country'] == \"US\").astype(int)"
   ]
  },
  {
   "cell_type": "code",
   "execution_count": 58,
   "metadata": {},
   "outputs": [],
   "source": [
    "#Run bootstrap\n",
    "bstr1_diff = []\n",
    "for i in range(1000):\n",
    "    sample = bstr_quasi(data = data1_diff,\n",
    "                        method = \"diff\",\n",
    "                        treatment_col = \"treatment\", \n",
    "                        group = [\"US\", \"CA\"],\n",
    "                        group_col = \"country\",)\n",
    "    bstr1_diff.append(sfa.ols(\"satisfaction ~ treatment + US + Aug\",\n",
    "                                 data = sample)\n",
    "                         .fit(cov_type='HC1').params[1])"
   ]
  },
  {
   "cell_type": "code",
   "execution_count": 59,
   "metadata": {},
   "outputs": [
    {
     "name": "stdout",
     "output_type": "stream",
     "text": [
      "Treatment effect, diff-in-diff method: 1.359\n",
      "Standard error, diff-in-diff method: 0.272\n"
     ]
    }
   ],
   "source": [
    "print(\"Treatment effect, diff-in-diff method:\", round(np.mean(bstr1_diff),3))\n",
    "print(\"Standard error, diff-in-diff method:\", round(np.std(bstr1_diff),3))"
   ]
  },
  {
   "cell_type": "markdown",
   "metadata": {},
   "source": [
    "## PROBLEM 2: Quasi-Experimental Methods, Part II\n",
    "\n",
    "Blue Apron is another meal-preparation company that competes with Hello Fresh, and that operates in the US only. Assume that in this stylized problem, it also used to have a single meal plan; and recently developed a low-sodium plan that it wants to test with consumers. Unlike Hello Fresh, Blue Apron has not run satisfaction surveys in the past, and so cannot rely on historical data. On the plus side and still unlike Hello Fresh, Blue Apron does have the logistical infrastructure to provide two different meal plans in the same country.\n",
    "\n",
    "Blue Apron does not want to randomize due to the PR risk of consumers receiving low-sodium meals without their consent. As such, it opens an online queue. Blue Apron is able to serve low-sodium meals to the first 10,000 customers in the queue; although it cannot serve such meals to the remaining (who continue to receive their regular meals), as Blue Apron later realizes it does not have enough low-sodium meals. Blue Apron asks you to use this data to estimate a treatment effect.\n",
    "\n",
    "The data is in the file data_assignment4_2.csv. The file has 30,000 rows. Each row corresponds to a separate user, for which there are four columns. The first column is the user's position in the queue, where NA indicates that the user chose not to sign up for the queue at all. The second column is whether the user received the treatment, i.e. low-sodium meals (indicated by 1), or continued to receive the regular meals (indicated by 0). The third column is the outcome, i.e. the user's surveyed satisfaction from 0 through 10. The fourth column is called \"popups\" and should be put aside until later in the problem."
   ]
  },
  {
   "cell_type": "code",
   "execution_count": 60,
   "metadata": {},
   "outputs": [],
   "source": [
    "data2 = pd.read_csv(\"data_assignment4_2.csv\")"
   ]
  },
  {
   "cell_type": "code",
   "execution_count": 61,
   "metadata": {},
   "outputs": [
    {
     "name": "stdout",
     "output_type": "stream",
     "text": [
      "<class 'pandas.core.frame.DataFrame'>\n",
      "RangeIndex: 30000 entries, 0 to 29999\n",
      "Data columns (total 4 columns):\n",
      "queue           20000 non-null float64\n",
      "treatment       30000 non-null int64\n",
      "satisfaction    30000 non-null int64\n",
      "popups          30000 non-null int64\n",
      "dtypes: float64(1), int64(3)\n",
      "memory usage: 937.6 KB\n"
     ]
    }
   ],
   "source": [
    "data2.info()"
   ]
  },
  {
   "cell_type": "code",
   "execution_count": 62,
   "metadata": {},
   "outputs": [
    {
     "data": {
      "text/plain": [
       "queue           20000\n",
       "treatment           2\n",
       "satisfaction       11\n",
       "popups              2\n",
       "dtype: int64"
      ]
     },
     "execution_count": 62,
     "metadata": {},
     "output_type": "execute_result"
    }
   ],
   "source": [
    "data2.nunique()"
   ]
  },
  {
   "cell_type": "code",
   "execution_count": 63,
   "metadata": {
    "scrolled": true
   },
   "outputs": [
    {
     "data": {
      "text/html": [
       "<div>\n",
       "<style scoped>\n",
       "    .dataframe tbody tr th:only-of-type {\n",
       "        vertical-align: middle;\n",
       "    }\n",
       "\n",
       "    .dataframe tbody tr th {\n",
       "        vertical-align: top;\n",
       "    }\n",
       "\n",
       "    .dataframe thead th {\n",
       "        text-align: right;\n",
       "    }\n",
       "</style>\n",
       "<table border=\"1\" class=\"dataframe\">\n",
       "  <thead>\n",
       "    <tr style=\"text-align: right;\">\n",
       "      <th></th>\n",
       "      <th>queue</th>\n",
       "      <th>treatment</th>\n",
       "      <th>satisfaction</th>\n",
       "      <th>popups</th>\n",
       "    </tr>\n",
       "  </thead>\n",
       "  <tbody>\n",
       "    <tr>\n",
       "      <th>count</th>\n",
       "      <td>20000.000000</td>\n",
       "      <td>30000.000000</td>\n",
       "      <td>30000.000000</td>\n",
       "      <td>30000.000000</td>\n",
       "    </tr>\n",
       "    <tr>\n",
       "      <th>mean</th>\n",
       "      <td>10000.500000</td>\n",
       "      <td>0.333333</td>\n",
       "      <td>4.584867</td>\n",
       "      <td>0.500867</td>\n",
       "    </tr>\n",
       "    <tr>\n",
       "      <th>std</th>\n",
       "      <td>5773.647028</td>\n",
       "      <td>0.471412</td>\n",
       "      <td>1.492963</td>\n",
       "      <td>0.500008</td>\n",
       "    </tr>\n",
       "    <tr>\n",
       "      <th>min</th>\n",
       "      <td>1.000000</td>\n",
       "      <td>0.000000</td>\n",
       "      <td>0.000000</td>\n",
       "      <td>0.000000</td>\n",
       "    </tr>\n",
       "    <tr>\n",
       "      <th>25%</th>\n",
       "      <td>5000.750000</td>\n",
       "      <td>0.000000</td>\n",
       "      <td>4.000000</td>\n",
       "      <td>0.000000</td>\n",
       "    </tr>\n",
       "    <tr>\n",
       "      <th>50%</th>\n",
       "      <td>10000.500000</td>\n",
       "      <td>0.000000</td>\n",
       "      <td>5.000000</td>\n",
       "      <td>1.000000</td>\n",
       "    </tr>\n",
       "    <tr>\n",
       "      <th>75%</th>\n",
       "      <td>15000.250000</td>\n",
       "      <td>1.000000</td>\n",
       "      <td>6.000000</td>\n",
       "      <td>1.000000</td>\n",
       "    </tr>\n",
       "    <tr>\n",
       "      <th>max</th>\n",
       "      <td>20000.000000</td>\n",
       "      <td>1.000000</td>\n",
       "      <td>10.000000</td>\n",
       "      <td>1.000000</td>\n",
       "    </tr>\n",
       "  </tbody>\n",
       "</table>\n",
       "</div>"
      ],
      "text/plain": [
       "              queue     treatment  satisfaction        popups\n",
       "count  20000.000000  30000.000000  30000.000000  30000.000000\n",
       "mean   10000.500000      0.333333      4.584867      0.500867\n",
       "std     5773.647028      0.471412      1.492963      0.500008\n",
       "min        1.000000      0.000000      0.000000      0.000000\n",
       "25%     5000.750000      0.000000      4.000000      0.000000\n",
       "50%    10000.500000      0.000000      5.000000      1.000000\n",
       "75%    15000.250000      1.000000      6.000000      1.000000\n",
       "max    20000.000000      1.000000     10.000000      1.000000"
      ]
     },
     "execution_count": 63,
     "metadata": {},
     "output_type": "execute_result"
    }
   ],
   "source": [
    "data2.describe()"
   ]
  },
  {
   "cell_type": "code",
   "execution_count": 64,
   "metadata": {},
   "outputs": [
    {
     "data": {
      "text/plain": [
       "10000"
      ]
     },
     "execution_count": 64,
     "metadata": {},
     "output_type": "execute_result"
    }
   ],
   "source": [
    "data2.query(\"queue <= 10000\")['treatment'].sum()"
   ]
  },
  {
   "cell_type": "code",
   "execution_count": 65,
   "metadata": {},
   "outputs": [
    {
     "name": "stdout",
     "output_type": "stream",
     "text": [
      "<class 'pandas.core.frame.DataFrame'>\n",
      "RangeIndex: 30000 entries, 0 to 29999\n",
      "Data columns (total 4 columns):\n",
      "queue           30000 non-null float64\n",
      "treatment       30000 non-null int64\n",
      "satisfaction    30000 non-null int64\n",
      "popups          30000 non-null int64\n",
      "dtypes: float64(1), int64(3)\n",
      "memory usage: 937.6 KB\n"
     ]
    }
   ],
   "source": [
    "#turn NA to 0 for easy processing in other step.\n",
    "data2['queue'] = data2['queue'].fillna(0)\n",
    "data2.info()"
   ]
  },
  {
   "cell_type": "markdown",
   "metadata": {},
   "source": [
    "### 2.1. (5 points) \n",
    "**Why can we not regress satisfaction on treatment for a valid treatment effect? Explain this in concrete language relevant to this scenario.**\n",
    "\n",
    "The treatment is not randomized. Those who queued for low-sodium meal plan are likely to be conscious about diet and are more likely to be satisfied with the low-sodium meal plan. We will have selection bias if we regress on treatment only.\n",
    "\n",
    "### 2.2.\n",
    "**You decide to pursue a regression discontinuity design, in which you analyze consumers around\n",
    "the queue cutoff of 10,000.**\n",
    "\n",
    "**2.2(a) (5 points) Using the same concrete language relevant to this scenario, why can we compare consumers' outcomes just above and below the cutoff to get a valid treatment effect? In your answer, note any assumptions and whether you believe them to satisfied. (You do not need to formally test the assumptions.)**\n",
    "\n",
    "Those who are right after the cut-off are likely to care about diet as much as those who are eligible for the low-sodium meal plan. They just miss the spot by a few queue. In other words, they are not different from those who are right before them. In this method, two assumptions should be satisfied:\n",
    "\n",
    "Assumption 1: the model selected for the regression is linear. The assumption here is this model specification is correctly chosen. Satisfaction should have constant slope with respect to queue. This assumption is believed to be satisfied as the position in queue does not indicate a lower or higher satisfaction. Without treatment, the relationship between satisfaction and a person who queued at 3000th vs a person who queued at 15000th should be the same. This assumption should be satisfied. If we put treatment aside, whatever a customer's position is in the line, they receive the same type of meal-plan, with same level of quality.\n",
    "\n",
    "Assumption 2: satisfaction is continous around the cut-off. Queing for low-sodium plan is voluntary opt-in. There is no reason for a person who strategically queues near the cut-off to be dropped out. It also does not make sense that a person queues near the cut-off to increase the chance of securing a spot. Moreover, at the time of the queue, the assignment rule was unknown as Blue Apron only recognized it could not serve low-sodium meal plan to all queues afterwards.\n",
    "\n",
    "**2.2(b) (5 points) Using the regression discontinuity methodology and all data, estimate the treatment effect (along with standard errors).**"
   ]
  },
  {
   "cell_type": "code",
   "execution_count": 82,
   "metadata": {
    "scrolled": false
   },
   "outputs": [
    {
     "name": "stdout",
     "output_type": "stream",
     "text": [
      "effect, discontinuity method on all data: 1.218\n",
      "std, discontinuity method on all data: 0.039\n"
     ]
    }
   ],
   "source": [
    "reg2_2b = sfa.ols(\"satisfaction ~ queue + treatment\", \n",
    "                  data = data2.iloc[np.where(data2['queue']>0)[0]]).fit(cov_type='HC1')\n",
    "print(\"effect, discontinuity method on all data:\", round(reg2_2b.params[2],3))\n",
    "print(\"std, discontinuity method on all data:\", round(reg2_2b.bse[2],3))"
   ]
  },
  {
   "cell_type": "code",
   "execution_count": 84,
   "metadata": {},
   "outputs": [
    {
     "name": "stdout",
     "output_type": "stream",
     "text": [
      "std, discontinuity method on all data: 0.039\n"
     ]
    }
   ],
   "source": [
    "bstr_discont_all = []\n",
    "for i in range(1000):\n",
    "    sample = bstr_quasi(data = data2.iloc[np.where(data2['queue']>0)[0]], \n",
    "                        method = \"event\", \n",
    "                        treatment_col = \"treatment\")\n",
    "    #sample['bstr_queue'] = np.arange(start = 1, stop = 20001)\n",
    "    reg_bstr_discont = sfa.ols(\"satisfaction ~ queue + treatment\", \n",
    "                               data = sample).fit(cov_type='HC1')\n",
    "    bstr_discont_all.append(reg_bstr_discont.params[2])\n",
    "print(\"std, discontinuity method on all data:\", round(np.std(bstr_discont_all),3))"
   ]
  },
  {
   "cell_type": "markdown",
   "metadata": {},
   "source": [
    "**2.2(c) (5 points) Use the same methodology but restrict to data within a narrow band around the cutoff: those with queue places between 9,000 and 11,000. Why might the result differ, and which result do you trust more?**\n",
    "\n",
    "As we use much less data for this method compared to 2.2b, we can expect increase in variance but lower bias. Hence, the result differs from using all data.\n",
    "\n",
    "I would trust this result more than result on all data. Reasons are:\n",
    "- Those who queue closed to each other could share the same level of interest in low-sodium meal plans than those who queue very far away from the cut-off (assuming that the window for queueing last for a period of time). In short, the later a person get in line, the less excited/willing that person is about the low-sodium plan.\n",
    "- As we use only a portion of data that clusters around the cut-off, it's less likely that our assumption for the model specification violated, i.e we are more likely to guarantee linear function for our model.\n",
    "- The variance in this result increased, but not to the level that we would doubt our estimated effect, and since our result will be less biased, the bias-variance trade-off is still somewhat balanced. "
   ]
  },
  {
   "cell_type": "code",
   "execution_count": 85,
   "metadata": {
    "scrolled": false
   },
   "outputs": [
    {
     "name": "stdout",
     "output_type": "stream",
     "text": [
      "effect, discontinuity method on narrow band: 1.003\n",
      "std, discontinuity method on narrow band: 0.123\n"
     ]
    }
   ],
   "source": [
    "data2_2c = data2.iloc[np.where((data2['queue'] >= 9000) & (data2['queue'] <= 11000))[0]]\n",
    "reg2_2c = sfa.ols(\"satisfaction ~ queue + treatment\", \n",
    "                  data = data2_2c).fit(cov_type='HC1')\n",
    "print(\"effect, discontinuity method on narrow band:\", round(reg2_2c.params[2],3))\n",
    "print(\"std, discontinuity method on narrow band:\", round(reg2_2c.bse[2],3))"
   ]
  },
  {
   "cell_type": "code",
   "execution_count": 86,
   "metadata": {},
   "outputs": [
    {
     "name": "stdout",
     "output_type": "stream",
     "text": [
      "std, discontinuity method on narrow band: 0.12\n"
     ]
    }
   ],
   "source": [
    "bstr_discont_restricted = []\n",
    "for i in range(1000):\n",
    "    sample = bstr_quasi(data = data2_2c, \n",
    "                        method = \"event\", \n",
    "                        treatment_col = \"treatment\")\n",
    "    #sample['bstr_queue'] = np.arange(start = 1, stop = 20001)\n",
    "    reg_bstr_discont = sfa.ols(\"satisfaction ~ queue + treatment\", \n",
    "                               data = sample).fit(cov_type='HC1')\n",
    "    bstr_discont_restricted.append(reg_bstr_discont.params[2])\n",
    "print(\"std, discontinuity method on narrow band:\", \n",
    "      round(np.std(bstr_discont_restricted),3))"
   ]
  },
  {
   "cell_type": "markdown",
   "metadata": {},
   "source": [
    "### 2.3.\n",
    "An engineering team at Blue Apron tells you that they actually were running a separate experiment over this timeframe. Specifically, they were running pop-ups for some users, which informed them about new developments at Blue Apron; and some pop-ups were indeed related to these low-sodium meals and the queue for them. This is the fourth column - \"popups\" - which tells if you users were receiving these pop-ups (indicated by 1) or not (indicated by 0). You decide to pursue an instrumental variables approach, in which pop-ups are the instrument.\n",
    "\n",
    "**2.3(a) (10 points) Using the same concrete language relevant to this scenario, why might pop-ups be a valid instrument for this problem? In your answer, note any assumptions and whether you believe them to satisfied.**\n",
    "\n",
    "Assumption 1 - Relevance: \n",
    "People who see pop-ups might be more likely to be better informed about the queue and hence, queue for the treatment. Pop-ups therefore drive the queue/treatment and consequently drive the satisfaction. Since pop-ups can affect treatment, it is a good candidate to be instrumental variable.\n",
    "\n",
    "Assumption 2 - Exclusion: \n",
    "Pop-ups can only affect satisfaction through treatment. For the treatment group, the only way to get low-sodium mealplan is through treatment which is applied for the first 10,000 people. If a person saw pop-ups but didn't sign-up then he couldn't get into the treatment group. There is no information about how pop-ups was implemented, but since it was implemented by a different team without knowing about the assignment of treatment, we can assume pop-ups were random and did not strategically target a group of users. Hence, it should not affect satisfaction through other pathway such as the users' characteristics/opinion about diet.\n",
    "\n",
    "**2.3(b) (10 points) Using the instrumental variables methodology, estimate the treatment effect.**"
   ]
  },
  {
   "cell_type": "code",
   "execution_count": 87,
   "metadata": {},
   "outputs": [
    {
     "name": "stdout",
     "output_type": "stream",
     "text": [
      "                            OLS Regression Results                            \n",
      "==============================================================================\n",
      "Dep. Variable:              treatment   R-squared:                       0.179\n",
      "Model:                            OLS   Adj. R-squared:                  0.179\n",
      "Method:                 Least Squares   F-statistic:                     6543.\n",
      "Date:                Mon, 28 Sep 2020   Prob (F-statistic):               0.00\n",
      "Time:                        18:09:53   Log-Likelihood:                -17044.\n",
      "No. Observations:               30000   AIC:                         3.409e+04\n",
      "Df Residuals:                   29998   BIC:                         3.411e+04\n",
      "Df Model:                           1                                         \n",
      "Covariance Type:                  HC1                                         \n",
      "==============================================================================\n",
      "                 coef    std err          z      P>|z|      [0.025      0.975]\n",
      "------------------------------------------------------------------------------\n",
      "Intercept      0.5333      0.004    130.793      0.000       0.525       0.541\n",
      "popups        -0.3992      0.005    -80.888      0.000      -0.409      -0.389\n",
      "==============================================================================\n",
      "Omnibus:                     5322.212   Durbin-Watson:                   2.014\n",
      "Prob(Omnibus):                  0.000   Jarque-Bera (JB):             2015.287\n",
      "Skew:                           0.440   Prob(JB):                         0.00\n",
      "Kurtosis:                       2.085   Cond. No.                         2.62\n",
      "==============================================================================\n",
      "\n",
      "Warnings:\n",
      "[1] Standard Errors are heteroscedasticity robust (HC1)\n"
     ]
    }
   ],
   "source": [
    "#Regression, stage 1\n",
    "reg2_3b_popups = sfa.ols(\"treatment ~ popups\", data = data2).fit(cov_type='HC1')\n",
    "data2['treatmentfit'] = reg2_3b_popups.predict(data2['popups'])\n",
    "print(reg2_3b_popups.summary())"
   ]
  },
  {
   "cell_type": "code",
   "execution_count": 88,
   "metadata": {},
   "outputs": [
    {
     "name": "stdout",
     "output_type": "stream",
     "text": [
      "Effect, IV stage 2: 0.992\n"
     ]
    }
   ],
   "source": [
    "#Regression, stage 2\n",
    "reg2_3b_satisfaction = sfa.ols(\"satisfaction ~ treatmentfit\", \n",
    "                               data = data2).fit(cov_type='HC1')\n",
    "print(\"Effect, IV stage 2:\", round(reg2_3b_satisfaction.params[1],3))"
   ]
  },
  {
   "cell_type": "markdown",
   "metadata": {},
   "source": [
    "**2.3(c) (5 points) Using the bootstrap, compute the standard errors of your treatment effect.**\n",
    "\n",
    "Bootstrap approach: there should be exactly 10,000 units in treatment group & the remaining 20,000 units in control group. This approach is similar to event study method in question 1."
   ]
  },
  {
   "cell_type": "code",
   "execution_count": 89,
   "metadata": {},
   "outputs": [
    {
     "name": "stdout",
     "output_type": "stream",
     "text": [
      "std, IV method: 0.047\n"
     ]
    }
   ],
   "source": [
    "bstr_IV = []\n",
    "for i in range(1000):\n",
    "    sample = bstr_quasi(data = data2, method = \"event\", treatment_col = \"treatment\")\n",
    "    reg_bstr_popups = sfa.ols(\"treatment ~ popups\", \n",
    "                              data = sample).fit(cov_type='HC1')\n",
    "    sample['treatmentfit'] = reg_bstr_popups.predict(sample['popups'])\n",
    "    reg_bstr_satisfaction = sfa.ols(\"satisfaction ~ treatmentfit\", \n",
    "                                    data = sample).fit(cov_type='HC1')\n",
    "    bstr_IV.append(reg_bstr_satisfaction.params[1])\n",
    "print(\"std, IV method:\", round(np.std(bstr_IV),3))"
   ]
  },
  {
   "cell_type": "markdown",
   "metadata": {},
   "source": [
    "## PROBLEM 3: STREAMING BOOTSTRAP\n",
    "\n",
    "**(25 points)**\n",
    "\n",
    "Write a function that can compute the standard errors for the mean of a data series via 1000 bootstrapped iterations. Assume that the data is provided in batches, and each batch must be deleted before the next batch is provided. Test the function on a dataset that comes in five separate batches, where each batch has 100,000 observations randomly and uniformly distributed\n",
    "from 30 to 50; and report the standard error.\n",
    "\n",
    "Hint: the function to generate random Poisson values is numpy.random.poisson(lambda, n) in Python and rpois(n, lambda) in R."
   ]
  },
  {
   "cell_type": "code",
   "execution_count": 80,
   "metadata": {},
   "outputs": [
    {
     "name": "stdout",
     "output_type": "stream",
     "text": [
      "std of streaming bootstrap: 0.008\n"
     ]
    }
   ],
   "source": [
    "def bstr_streamMean(batch_num, iteration_num, func, **kwargs):\n",
    "    #initiate rolling sum & count of observations across iterations\n",
    "    roll = np.zeros((iteration_num,2)) \n",
    "    \n",
    "    for b in range(batch_num):    \n",
    "        batch_data = func(**kwargs) #generate a batch\n",
    "        for i in range(iteration_num):        \n",
    "            #draw number of appearance for each observation\n",
    "            poiss = np.random.poisson(1, len(batch_data)) \n",
    "            \n",
    "            bstr = np.repeat(batch_data, poiss) #create sample\n",
    "            \n",
    "            #roll sum and count at each iteration\n",
    "            roll[i,0] += np.sum(bstr)\n",
    "            roll[i,1] += len(bstr)\n",
    "    \n",
    "    bstr_std = np.std(roll[:,0]/roll[:,1])\n",
    "    return bstr_std\n",
    "\n",
    "#Test on dataset\n",
    "bstr_std = bstr_streamMean(batch_num = 5, iteration_num = 1000, \n",
    "                           func = np.random.uniform, low = 30, high = 50, size = 100000)\n",
    "\n",
    "#Print std of streaming bootstrap\n",
    "print(\"std of streaming bootstrap:\",round(bstr_std,3))"
   ]
  },
  {
   "cell_type": "markdown",
   "metadata": {},
   "source": [
    "When bootstrap on non-streaming data (as below), the std of bootstrap mean is almost the same as the std when using the function above"
   ]
  },
  {
   "cell_type": "code",
   "execution_count": 79,
   "metadata": {},
   "outputs": [
    {
     "name": "stdout",
     "output_type": "stream",
     "text": [
      "std of non-streaming bootstrap mean: 0.008\n"
     ]
    }
   ],
   "source": [
    "#Test on non-streaming data\n",
    "data_series = []\n",
    "for b in range(5): data_series.append(np.random.uniform(30, 50, 100000))\n",
    "data_series = np.concatenate(data_series)\n",
    "\n",
    "sampleMean = []\n",
    "for i in range(1000):\n",
    "    sample = np.random.choice(data_series, replace = True, size = len(data_series))\n",
    "    sampleMean.append(np.mean(sample))\n",
    "print(\"std of non-streaming bootstrap mean:\", round(np.std(sampleMean),3))  "
   ]
  }
 ],
 "metadata": {
  "kernelspec": {
   "display_name": "Python 3",
   "language": "python",
   "name": "python3"
  },
  "language_info": {
   "codemirror_mode": {
    "name": "ipython",
    "version": 3
   },
   "file_extension": ".py",
   "mimetype": "text/x-python",
   "name": "python",
   "nbconvert_exporter": "python",
   "pygments_lexer": "ipython3",
   "version": "3.7.3"
  }
 },
 "nbformat": 4,
 "nbformat_minor": 2
}
